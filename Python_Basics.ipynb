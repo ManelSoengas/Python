{
  "nbformat": 4,
  "nbformat_minor": 0,
  "metadata": {
    "colab": {
      "provenance": [],
      "authorship_tag": "ABX9TyOHiHoiJDG68lWTonjdea0L",
      "include_colab_link": true
    },
    "kernelspec": {
      "name": "python3",
      "display_name": "Python 3"
    },
    "language_info": {
      "name": "python"
    }
  },
  "cells": [
    {
      "cell_type": "markdown",
      "metadata": {
        "id": "view-in-github",
        "colab_type": "text"
      },
      "source": [
        "<a href=\"https://colab.research.google.com/github/ManelSoengas/Python/blob/main/Python_Basics.ipynb\" target=\"_parent\"><img src=\"https://colab.research.google.com/assets/colab-badge.svg\" alt=\"Open In Colab\"/></a>"
      ]
    },
    {
      "cell_type": "markdown",
      "source": [
        "# **Declarant variables**\n",
        "\n",
        "---\n",
        "\n"
      ],
      "metadata": {
        "id": "sYCksMEYBOKw"
      }
    },
    {
      "cell_type": "code",
      "execution_count": 2,
      "metadata": {
        "id": "mMJoQ-uNBDEq"
      },
      "outputs": [],
      "source": [
        "var1 = 2\n",
        "var2 = 5.0\n",
        "var3 = True\n",
        "var4 = 'Machine Learning'"
      ]
    },
    {
      "cell_type": "markdown",
      "source": [
        "print(*objects, sep=‘ end=‘\\n’)"
      ],
      "metadata": {
        "id": "eeg8CDRgBsC2"
      }
    },
    {
      "cell_type": "code",
      "source": [
        "print('Value of var1 :', var1)\n",
        "print('Value of var2 :', var2)\n",
        "print('Value of var3 :', var3)\n",
        "print('Value of var4 :', var4)"
      ],
      "metadata": {
        "colab": {
          "base_uri": "https://localhost:8080/"
        },
        "id": "Qo_mnub4BXch",
        "outputId": "a166155c-c3c0-4e2d-963b-fae84f31c619"
      },
      "execution_count": 4,
      "outputs": [
        {
          "output_type": "stream",
          "name": "stdout",
          "text": [
            "Value of var1 : 2\n",
            "Value of var2 : 5.0\n",
            "Value of var3 : True\n",
            "Value of var4 : Machine Learning\n"
          ]
        }
      ]
    },
    {
      "cell_type": "code",
      "source": [
        "print(type(var1))\n",
        "print(type(var2))\n",
        "print(type(var3))\n",
        "print(type(var4))"
      ],
      "metadata": {
        "colab": {
          "base_uri": "https://localhost:8080/"
        },
        "id": "Vhs2xqhLCG26",
        "outputId": "31056c09-ac4f-42ba-ed10-0b0ad63d5ed5"
      },
      "execution_count": 7,
      "outputs": [
        {
          "output_type": "stream",
          "name": "stdout",
          "text": [
            "<class 'int'>\n",
            "<class 'float'>\n",
            "<class 'bool'>\n",
            "<class 'str'>\n"
          ]
        }
      ]
    },
    {
      "cell_type": "markdown",
      "source": [
        "# **Declaracions condicionals**\n",
        "\n",
        "---\n",
        "\n"
      ],
      "metadata": {
        "id": "T_uATV2MCiN8"
      }
    },
    {
      "cell_type": "code",
      "source": [
        "# Checking a condition if the variable value is more than 1\n",
        "if var1 > 1:\n",
        "  print( 'Més gran que 1' )"
      ],
      "metadata": {
        "colab": {
          "base_uri": "https://localhost:8080/"
        },
        "id": "qI8fyuLFClpW",
        "outputId": "1e9715b8-84b6-4c52-c2bf-d39e9ae6185a"
      },
      "execution_count": 10,
      "outputs": [
        {
          "output_type": "stream",
          "name": "stdout",
          "text": [
            "Més gran que 1\n"
          ]
        }
      ]
    },
    {
      "cell_type": "code",
      "source": [
        "x = 10\n",
        "y = 12\n",
        "# if x is greater than y\n",
        "if x > y:\n",
        "  print ('x > y')\n",
        "# if x is lesser than y\n",
        "elif x < y:\n",
        "  print ('x < y')\n",
        "else:\n",
        "  print ('x = y')"
      ],
      "metadata": {
        "colab": {
          "base_uri": "https://localhost:8080/"
        },
        "id": "mobezAr7DXUd",
        "outputId": "39e18d94-a8bd-415a-9fed-6f63306f5c16"
      },
      "execution_count": 12,
      "outputs": [
        {
          "output_type": "stream",
          "name": "stdout",
          "text": [
            "x < y\n"
          ]
        }
      ]
    },
    {
      "cell_type": "markdown",
      "source": [
        "# **Generant seqüències de números**\n",
        "\n",
        "---\n",
        "\n"
      ],
      "metadata": {
        "id": "7tYvljGGEDJn"
      }
    },
    {
      "cell_type": "code",
      "source": [
        "# Inicialitzant la seqüència de números, començant per 1\n",
        "# i finalitzant (no inclou)  6\n",
        "numbers = range(1, 6)\n",
        "print(numbers)"
      ],
      "metadata": {
        "colab": {
          "base_uri": "https://localhost:8080/"
        },
        "id": "2jE3Kz9_EJZt",
        "outputId": "339a9fb2-a9e4-4819-bff4-46e7d4259730"
      },
      "execution_count": 14,
      "outputs": [
        {
          "output_type": "stream",
          "name": "stdout",
          "text": [
            "range(1, 6)\n"
          ]
        }
      ]
    },
    {
      "cell_type": "markdown",
      "source": [
        "# **Declaracions de flux de control**\n",
        "\n",
        "---\n",
        "\n"
      ],
      "metadata": {
        "id": "DoeD7FFMEq3o"
      }
    },
    {
      "cell_type": "code",
      "source": [
        "# Iteració\n",
        "for i in numbers:\n",
        "  print (i)\n"
      ],
      "metadata": {
        "colab": {
          "base_uri": "https://localhost:8080/"
        },
        "id": "jedqUlXXEtgT",
        "outputId": "52802371-c032-4a8b-8f11-48eaf3d961cb"
      },
      "execution_count": 15,
      "outputs": [
        {
          "output_type": "stream",
          "name": "stdout",
          "text": [
            "1\n",
            "2\n",
            "3\n",
            "4\n",
            "5\n"
          ]
        }
      ]
    },
    {
      "cell_type": "code",
      "source": [
        "# Inicialitzar amb valor 1\n",
        "i = 1\n",
        "# En funció del valor de i, el bucle continua o no\n",
        "while i < 5:\n",
        "  print(i)\n",
        "# Increment de i\n",
        "  i = i+1\n",
        "# Imprimir\n",
        "print('Done')"
      ],
      "metadata": {
        "colab": {
          "base_uri": "https://localhost:8080/"
        },
        "id": "dh6CMD48E_NX",
        "outputId": "82088bfc-67cc-42dc-a91b-18cc93c640f9"
      },
      "execution_count": 19,
      "outputs": [
        {
          "output_type": "stream",
          "name": "stdout",
          "text": [
            "1\n",
            "2\n",
            "3\n",
            "4\n",
            "Done\n"
          ]
        }
      ]
    },
    {
      "cell_type": "markdown",
      "source": [
        "# **Funcions**\n",
        "\n",
        "---\n",
        "\n"
      ],
      "metadata": {
        "id": "8B6WRnUOF6g5"
      }
    },
    {
      "cell_type": "code",
      "source": [
        "def addElements(a, b):\n",
        " return a + b"
      ],
      "metadata": {
        "id": "-g0LFHRNF-iB"
      },
      "execution_count": 21,
      "outputs": []
    },
    {
      "cell_type": "code",
      "source": [
        "#Cridar a la funció\n",
        "\n",
        "result = addElements(2, 3)\n",
        "result"
      ],
      "metadata": {
        "colab": {
          "base_uri": "https://localhost:8080/"
        },
        "id": "LZPVTWsKGOwp",
        "outputId": "c4c609a6-c54f-4f9f-af0d-4eec773ed3b6"
      },
      "execution_count": 22,
      "outputs": [
        {
          "output_type": "execute_result",
          "data": {
            "text/plain": [
              "5"
            ]
          },
          "metadata": {},
          "execution_count": 22
        }
      ]
    },
    {
      "cell_type": "code",
      "source": [
        "# Es pot invocar a la funció amb diferents tipus de dades\n",
        "\n",
        "result = addElements('python,', ' the best')\n",
        "result"
      ],
      "metadata": {
        "colab": {
          "base_uri": "https://localhost:8080/",
          "height": 35
        },
        "id": "w59Z7uMgGW95",
        "outputId": "0598e60b-2840-468a-9ca0-2beb5139702b"
      },
      "execution_count": 24,
      "outputs": [
        {
          "output_type": "execute_result",
          "data": {
            "text/plain": [
              "'python, the best'"
            ],
            "application/vnd.google.colaboratory.intrinsic+json": {
              "type": "string"
            }
          },
          "metadata": {},
          "execution_count": 24
        }
      ]
    },
    {
      "cell_type": "code",
      "source": [
        "def addElements(a, b = 4):\n",
        "  return a + b"
      ],
      "metadata": {
        "id": "aAxZYw83G5iC"
      },
      "execution_count": 25,
      "outputs": []
    },
    {
      "cell_type": "code",
      "source": [
        "addElements(2)"
      ],
      "metadata": {
        "colab": {
          "base_uri": "https://localhost:8080/"
        },
        "id": "Kn_MWTIxG9bc",
        "outputId": "3e648424-7ace-4c14-c69a-a33d26011f36"
      },
      "execution_count": 26,
      "outputs": [
        {
          "output_type": "execute_result",
          "data": {
            "text/plain": [
              "6"
            ]
          },
          "metadata": {},
          "execution_count": 26
        }
      ]
    },
    {
      "cell_type": "code",
      "source": [
        "addElements(2, 8)"
      ],
      "metadata": {
        "colab": {
          "base_uri": "https://localhost:8080/"
        },
        "id": "ZrvBt-0uHAuC",
        "outputId": "ac799830-7d12-4ff7-c569-c60b98ce3217"
      },
      "execution_count": 27,
      "outputs": [
        {
          "output_type": "execute_result",
          "data": {
            "text/plain": [
              "10"
            ]
          },
          "metadata": {},
          "execution_count": 27
        }
      ]
    },
    {
      "cell_type": "markdown",
      "source": [
        "# **Treballant amb col·leccions**\n",
        "\n",
        "---\n",
        "\n",
        "\n",
        "Les col·leccions són contenidors o estructures de dades útils per emmagatzemar i manipular llistes de dades homogènies o\n",
        "elements erogenis. En aquesta secció parlarem de les següents col·leccions:\n",
        "\n",
        "1. Llista\n",
        "2. Tuple\n",
        "3. Set\n",
        "4. Diccionari"
      ],
      "metadata": {
        "id": "kvtoM3fUHLsQ"
      }
    },
    {
      "cell_type": "markdown",
      "source": [
        "# **Llistes**\n",
        "\n",
        "---\n",
        "\n",
        "\n"
      ],
      "metadata": {
        "id": "x02NtkqnHa4g"
      }
    },
    {
      "cell_type": "code",
      "source": [
        "# Crear una llista buida\n",
        "emptyList = []"
      ],
      "metadata": {
        "id": "vOOpcsiBHjMF"
      },
      "execution_count": 28,
      "outputs": []
    },
    {
      "cell_type": "code",
      "source": [
        "batsmen = ['Rohit', 'Dhawan', 'Kohli', 'Rahane', 'Rayudu', 'Dhoni']"
      ],
      "metadata": {
        "id": "nTI7JU73HrCA"
      },
      "execution_count": 29,
      "outputs": []
    },
    {
      "cell_type": "code",
      "source": [
        "batsmen[0]\n",
        "batsmen[0:2] #Rodanxes"
      ],
      "metadata": {
        "colab": {
          "base_uri": "https://localhost:8080/"
        },
        "id": "uB4sFJy6H9Tc",
        "outputId": "9525b03e-ee01-489c-80b1-bc945811c051"
      },
      "execution_count": 32,
      "outputs": [
        {
          "output_type": "execute_result",
          "data": {
            "text/plain": [
              "['Rohit', 'Dhawan']"
            ]
          },
          "metadata": {},
          "execution_count": 32
        }
      ]
    },
    {
      "cell_type": "code",
      "source": [
        "# Quantitat d'elements a una llista\n",
        "len(batsmen)"
      ],
      "metadata": {
        "colab": {
          "base_uri": "https://localhost:8080/"
        },
        "id": "XfZ_iTvfIdE4",
        "outputId": "9025f48c-b2ae-4435-b48f-8a06536c585d"
      },
      "execution_count": 33,
      "outputs": [
        {
          "output_type": "execute_result",
          "data": {
            "text/plain": [
              "6"
            ]
          },
          "metadata": {},
          "execution_count": 33
        }
      ]
    },
    {
      "cell_type": "code",
      "source": [
        "bowlers = ['Bumrah', 'Shami', 'Bhuvi', 'Kuldeep', 'Chahal']\n",
        "all_players = batsmen + bowlers\n",
        "all_players"
      ],
      "metadata": {
        "colab": {
          "base_uri": "https://localhost:8080/"
        },
        "id": "UGVeTxiUIiH1",
        "outputId": "d2c48e76-db71-4fdd-dde0-6c53c8f5b328"
      },
      "execution_count": 34,
      "outputs": [
        {
          "output_type": "execute_result",
          "data": {
            "text/plain": [
              "['Rohit',\n",
              " 'Dhawan',\n",
              " 'Kohli',\n",
              " 'Rahane',\n",
              " 'Rayudu',\n",
              " 'Dhoni',\n",
              " 'Bumrah',\n",
              " 'Shami',\n",
              " 'Bhuvi',\n",
              " 'Kuldeep',\n",
              " 'Chahal']"
            ]
          },
          "metadata": {},
          "execution_count": 34
        }
      ]
    },
    {
      "cell_type": "code",
      "source": [
        "'Rayudu' in bowlers"
      ],
      "metadata": {
        "colab": {
          "base_uri": "https://localhost:8080/"
        },
        "id": "dRJemAxuI3Yz",
        "outputId": "8dcf1765-3202-4565-f35c-2f037d3cf7c7"
      },
      "execution_count": 35,
      "outputs": [
        {
          "output_type": "execute_result",
          "data": {
            "text/plain": [
              "False"
            ]
          },
          "metadata": {},
          "execution_count": 35
        }
      ]
    },
    {
      "cell_type": "code",
      "source": [
        "all_players.index('Dhoni')"
      ],
      "metadata": {
        "colab": {
          "base_uri": "https://localhost:8080/"
        },
        "id": "mHNb7beNJCA0",
        "outputId": "4d7e8c31-8a92-43a2-df4c-3ad63e6a7eed"
      },
      "execution_count": 36,
      "outputs": [
        {
          "output_type": "execute_result",
          "data": {
            "text/plain": [
              "5"
            ]
          },
          "metadata": {},
          "execution_count": 36
        }
      ]
    },
    {
      "cell_type": "markdown",
      "source": [
        "# **Tuples**\n",
        "\n",
        "---\n",
        "\n",
        "\n",
        "Tuple també és una llista, però és immutable. Un cop creada una tupla, no es pot modificar."
      ],
      "metadata": {
        "id": "lxvsAVlZJSVH"
      }
    },
    {
      "cell_type": "code",
      "source": [
        "odiDebut = ('Kohli', 2008)\n",
        "odiDebut"
      ],
      "metadata": {
        "colab": {
          "base_uri": "https://localhost:8080/"
        },
        "id": "czZ-tMdmJayS",
        "outputId": "27084f21-30c8-4c99-9a13-d674c6ad6274"
      },
      "execution_count": 37,
      "outputs": [
        {
          "output_type": "execute_result",
          "data": {
            "text/plain": [
              "('Kohli', 2008)"
            ]
          },
          "metadata": {},
          "execution_count": 37
        }
      ]
    },
    {
      "cell_type": "code",
      "source": [
        "# Una llista existent es pot convertir en tupla utilitzant el tipus de tupla\n",
        "\n",
        "players = tuple(all_players)\n",
        "players"
      ],
      "metadata": {
        "colab": {
          "base_uri": "https://localhost:8080/"
        },
        "id": "49LCbCtGJt43",
        "outputId": "c45c5610-7a28-4b57-e16d-b43671974d0b"
      },
      "execution_count": 38,
      "outputs": [
        {
          "output_type": "execute_result",
          "data": {
            "text/plain": [
              "('Rohit',\n",
              " 'Dhawan',\n",
              " 'Kohli',\n",
              " 'Rahane',\n",
              " 'Rayudu',\n",
              " 'Dhoni',\n",
              " 'Bumrah',\n",
              " 'Shami',\n",
              " 'Bhuvi',\n",
              " 'Kuldeep',\n",
              " 'Chahal')"
            ]
          },
          "metadata": {},
          "execution_count": 38
        }
      ]
    },
    {
      "cell_type": "markdown",
      "source": [
        "# **Set**\n",
        "\n",
        "---\n",
        "\n",
        "Un conjunt és una col·lecció d'elements únics, és a dir, els valors no es poden repetir. Un conjunt es pot inicialitzar amb a llista d'elements tancats amb claudàtors."
      ],
      "metadata": {
        "id": "e0fo8n3RJ6-s"
      }
    },
    {
      "cell_type": "code",
      "source": [
        "setOfNumbers = {6,1,1,2,4,5}"
      ],
      "metadata": {
        "id": "1G6GR_pRKBiN"
      },
      "execution_count": 39,
      "outputs": []
    },
    {
      "cell_type": "code",
      "source": [
        "setOfNumbers"
      ],
      "metadata": {
        "colab": {
          "base_uri": "https://localhost:8080/"
        },
        "id": "4uH-DlKhKHmd",
        "outputId": "f5c6cbca-b61b-4844-a21c-1cdc885cc410"
      },
      "execution_count": 40,
      "outputs": [
        {
          "output_type": "execute_result",
          "data": {
            "text/plain": [
              "{1, 2, 4, 5, 6}"
            ]
          },
          "metadata": {},
          "execution_count": 40
        }
      ]
    },
    {
      "cell_type": "code",
      "source": [
        "wc2011 = {\n",
        "'Dhoni', 'Sehwag', 'Tendulkar', 'Gambhir',\n",
        "'Kohli', 'Raina', 'Yuvraj', 'Yusuf'\n",
        "}\n",
        "\n",
        "wc2015 = {\n",
        "'Dhoni', 'Dhawan', 'Rohit', 'Rahane',\n",
        "'Kohli', 'Raina', 'Rayudu', 'Jadeja'\n",
        "}\n"
      ],
      "metadata": {
        "id": "QTjbM7X5KU-P"
      },
      "execution_count": 41,
      "outputs": []
    },
    {
      "cell_type": "code",
      "source": [
        "wc2011.union(wc2015)"
      ],
      "metadata": {
        "colab": {
          "base_uri": "https://localhost:8080/"
        },
        "id": "2ZzChwaSKYuz",
        "outputId": "dfbcbf14-7e1d-41d0-cab5-87e317475ff4"
      },
      "execution_count": 42,
      "outputs": [
        {
          "output_type": "execute_result",
          "data": {
            "text/plain": [
              "{'Dhawan',\n",
              " 'Dhoni',\n",
              " 'Gambhir',\n",
              " 'Jadeja',\n",
              " 'Kohli',\n",
              " 'Rahane',\n",
              " 'Raina',\n",
              " 'Rayudu',\n",
              " 'Rohit',\n",
              " 'Sehwag',\n",
              " 'Tendulkar',\n",
              " 'Yusuf',\n",
              " 'Yuvraj'}"
            ]
          },
          "metadata": {},
          "execution_count": 42
        }
      ]
    },
    {
      "cell_type": "code",
      "source": [
        "wc2011.intersection(wc2015)"
      ],
      "metadata": {
        "colab": {
          "base_uri": "https://localhost:8080/"
        },
        "id": "N4pxHlNCKmjF",
        "outputId": "52cce30b-4fd5-4f37-c1b0-50457bfce7fa"
      },
      "execution_count": 43,
      "outputs": [
        {
          "output_type": "execute_result",
          "data": {
            "text/plain": [
              "{'Dhoni', 'Kohli', 'Raina'}"
            ]
          },
          "metadata": {},
          "execution_count": 43
        }
      ]
    },
    {
      "cell_type": "code",
      "source": [
        "wc2011.difference(wc2015)"
      ],
      "metadata": {
        "colab": {
          "base_uri": "https://localhost:8080/"
        },
        "id": "Ho_55T5oKo4P",
        "outputId": "722841cb-a327-4f5b-aea9-661ad652b866"
      },
      "execution_count": 44,
      "outputs": [
        {
          "output_type": "execute_result",
          "data": {
            "text/plain": [
              "{'Gambhir', 'Sehwag', 'Tendulkar', 'Yusuf', 'Yuvraj'}"
            ]
          },
          "metadata": {},
          "execution_count": 44
        }
      ]
    },
    {
      "cell_type": "markdown",
      "source": [
        "# **Diccionari**\n",
        "\n",
        "---\n",
        "El diccionari és una llista de parells clau i valor. Totes les claus d'un diccionari són úniques.\n"
      ],
      "metadata": {
        "id": "M9W38pD8K1fO"
      }
    },
    {
      "cell_type": "code",
      "source": [
        "wcWinners = {\n",
        "    1975: 'West Indies',\n",
        "    1979: 'West Indies',\n",
        "    1983: 'India',\n",
        "    1987: 'Australia',\n",
        "    1991: 'Pakistan',\n",
        "    1996: 'Sri Lanka',\n",
        "    1999: 'Australia',\n",
        "    2003: 'Australia',\n",
        "    2007: 'Australia',\n",
        "    2011: 'India'\n",
        "}\n"
      ],
      "metadata": {
        "id": "IZRrli5LK5zU"
      },
      "execution_count": 45,
      "outputs": []
    },
    {
      "cell_type": "code",
      "source": [
        "wcWinners[1983]"
      ],
      "metadata": {
        "colab": {
          "base_uri": "https://localhost:8080/",
          "height": 35
        },
        "id": "izDdwSDsLCGm",
        "outputId": "573acc32-505f-4c5b-f520-ed50db205bb9"
      },
      "execution_count": 46,
      "outputs": [
        {
          "output_type": "execute_result",
          "data": {
            "text/plain": [
              "'India'"
            ],
            "application/vnd.google.colaboratory.intrinsic+json": {
              "type": "string"
            }
          },
          "metadata": {},
          "execution_count": 46
        }
      ]
    },
    {
      "cell_type": "code",
      "source": [
        "wcWinners.values()"
      ],
      "metadata": {
        "colab": {
          "base_uri": "https://localhost:8080/"
        },
        "id": "kWKKPzS_LNQS",
        "outputId": "1f6aaefb-7933-4abe-bf34-684e57a9ce57"
      },
      "execution_count": 47,
      "outputs": [
        {
          "output_type": "execute_result",
          "data": {
            "text/plain": [
              "dict_values(['West Indies', 'West Indies', 'India', 'Australia', 'Pakistan', 'Sri Lanka', 'Australia', 'Australia', 'Australia', 'India'])"
            ]
          },
          "metadata": {},
          "execution_count": 47
        }
      ]
    },
    {
      "cell_type": "code",
      "source": [
        "wcWinners[2015] = 'Australia'"
      ],
      "metadata": {
        "id": "9TBoPtNlLQcx"
      },
      "execution_count": 48,
      "outputs": []
    },
    {
      "cell_type": "code",
      "source": [
        "wcWinners"
      ],
      "metadata": {
        "colab": {
          "base_uri": "https://localhost:8080/"
        },
        "id": "BGuwWKz5LhRF",
        "outputId": "12ac37c0-3927-4137-c921-3b05dd137791"
      },
      "execution_count": 49,
      "outputs": [
        {
          "output_type": "execute_result",
          "data": {
            "text/plain": [
              "{1975: 'West Indies',\n",
              " 1979: 'West Indies',\n",
              " 1983: 'India',\n",
              " 1987: 'Australia',\n",
              " 1991: 'Pakistan',\n",
              " 1996: 'Sri Lanka',\n",
              " 1999: 'Australia',\n",
              " 2003: 'Australia',\n",
              " 2007: 'Australia',\n",
              " 2011: 'India',\n",
              " 2015: 'Australia'}"
            ]
          },
          "metadata": {},
          "execution_count": 49
        }
      ]
    },
    {
      "cell_type": "markdown",
      "source": [
        "# **Treballant els Strings**\n",
        "\n",
        "---\n",
        "\n"
      ],
      "metadata": {
        "id": "pbIlElEsLnOb"
      }
    },
    {
      "cell_type": "code",
      "source": [
        "string0 = 'python'\n",
        "string1 = 'machine learning'\n",
        "string2 = 'This is a multiline string'\n"
      ],
      "metadata": {
        "id": "QuU_TDzjLr3D"
      },
      "execution_count": 50,
      "outputs": []
    },
    {
      "cell_type": "code",
      "source": [
        "string0.upper()"
      ],
      "metadata": {
        "colab": {
          "base_uri": "https://localhost:8080/",
          "height": 35
        },
        "id": "8RGVKHOiMCnH",
        "outputId": "4abe4a5f-6009-4cdf-a2d3-bb1fbaa4cd20"
      },
      "execution_count": 52,
      "outputs": [
        {
          "output_type": "execute_result",
          "data": {
            "text/plain": [
              "'PYTHON'"
            ],
            "application/vnd.google.colaboratory.intrinsic+json": {
              "type": "string"
            }
          },
          "metadata": {},
          "execution_count": 52
        }
      ]
    },
    {
      "cell_type": "code",
      "source": [
        "tokens = string1.split(' ')\n",
        "tokens"
      ],
      "metadata": {
        "colab": {
          "base_uri": "https://localhost:8080/"
        },
        "id": "lR7-OF2TMK1h",
        "outputId": "6598984c-78ca-4f5c-a267-4629d2cf4923"
      },
      "execution_count": 54,
      "outputs": [
        {
          "output_type": "execute_result",
          "data": {
            "text/plain": [
              "['machine', 'learning']"
            ]
          },
          "metadata": {},
          "execution_count": 54
        }
      ]
    }
  ]
}