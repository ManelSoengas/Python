{
  "nbformat": 4,
  "nbformat_minor": 0,
  "metadata": {
    "colab": {
      "provenance": [],
      "authorship_tag": "ABX9TyO6G71VcasdUVBThMtvcgU/",
      "include_colab_link": true
    },
    "kernelspec": {
      "name": "python3",
      "display_name": "Python 3"
    },
    "language_info": {
      "name": "python"
    }
  },
  "cells": [
    {
      "cell_type": "markdown",
      "metadata": {
        "id": "view-in-github",
        "colab_type": "text"
      },
      "source": [
        "<a href=\"https://colab.research.google.com/github/ManelSoengas/Python/blob/main/Python_Prog_funcional.ipynb\" target=\"_parent\"><img src=\"https://colab.research.google.com/assets/colab-badge.svg\" alt=\"Open In Colab\"/></a>"
      ]
    },
    {
      "cell_type": "markdown",
      "source": [
        "# **Programació Funcional**\n",
        "\n",
        "---\n",
        "\n",
        "\n",
        "La programació funcional admet funcions que es passen com a paràmetres a una altra funció com a variables. Això permet crear funcions d'ordre superior. Un dels avantatges bàsics de la programació funcional en l'anàlisi de dades és aplicar transformacions o filtres a un conjunt de registres o columnes de manera més eficient que utilitzant un bucle senzill."
      ],
      "metadata": {
        "id": "CfJsEOQ_Nd_e"
      }
    },
    {
      "cell_type": "code",
      "execution_count": null,
      "metadata": {
        "id": "b9UlNsATNDAJ"
      },
      "outputs": [],
      "source": []
    }
  ]
}