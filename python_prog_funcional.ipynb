{
  "nbformat": 4,
  "nbformat_minor": 0,
  "metadata": {
    "colab": {
      "provenance": [],
      "authorship_tag": "ABX9TyNmfvx3CCcZjr4eVpcb/q0D",
      "include_colab_link": true
    },
    "kernelspec": {
      "name": "python3",
      "display_name": "Python 3"
    },
    "language_info": {
      "name": "python"
    }
  },
  "cells": [
    {
      "cell_type": "markdown",
      "metadata": {
        "id": "view-in-github",
        "colab_type": "text"
      },
      "source": [
        "<a href=\"https://colab.research.google.com/github/ManelSoengas/Python/blob/main/python_prog_funcional.ipynb\" target=\"_parent\"><img src=\"https://colab.research.google.com/assets/colab-badge.svg\" alt=\"Open In Colab\"/></a>"
      ]
    },
    {
      "cell_type": "markdown",
      "source": [
        "# **Programació Funcional**\n",
        "\n",
        "---\n",
        "\n",
        "\n",
        "La programació funcional admet funcions que es passen com a paràmetres a una altra funció com a variables. Això permet crear funcions d'ordre superior. Un dels avantatges bàsics de la programació funcional en l'anàlisi de dades és aplicar transformacions o filtres a un conjunt de registres o columnes de manera més eficient que utilitzant un bucle senzill."
      ],
      "metadata": {
        "id": "CfJsEOQ_Nd_e"
      }
    },
    {
      "cell_type": "code",
      "execution_count": null,
      "metadata": {
        "id": "b9UlNsATNDAJ"
      },
      "outputs": [],
      "source": [
        "num_myList = [1,2,3,4,5,6,7,8,9]"
      ]
    },
    {
      "cell_type": "code",
      "source": [
        "# Crear una llista buida.\n",
        "cubList = []\n",
        "# Loop through the intList, square every item and append to result\n",
        "# list squareList.\n",
        "for x in num_myList:\n",
        "     cubList.append(pow( x, 3 ) )\n",
        "print(cubList)"
      ],
      "metadata": {
        "colab": {
          "base_uri": "https://localhost:8080/"
        },
        "id": "WXirbdYPEcOr",
        "outputId": "44004ba4-c7fc-4616-ad74-481c5f7127da"
      },
      "execution_count": null,
      "outputs": [
        {
          "output_type": "stream",
          "name": "stdout",
          "text": [
            "[1, 8, 27, 64, 125, 216, 343, 512, 729]\n"
          ]
        }
      ]
    },
    {
      "cell_type": "code",
      "source": [
        "# Utilitzant un enfocament de programació funcional,\n",
        "# això es pot escriure de manera més eficient tal com\n",
        "# es descriu a continuació als passos.\n",
        "\n",
        "def cub_me( x ):\n",
        "  return x * x * x"
      ],
      "metadata": {
        "id": "p9-BKav4FTIv"
      },
      "execution_count": null,
      "outputs": []
    },
    {
      "cell_type": "code",
      "source": [
        "cubList = map(cub_me, num_myList)\n",
        "# map() itera per la llista i transforma cada element mitjançant la funció."
      ],
      "metadata": {
        "id": "uxVv6cL3FkNY"
      },
      "execution_count": null,
      "outputs": []
    },
    {
      "cell_type": "code",
      "source": [
        "list(cubList)"
      ],
      "metadata": {
        "colab": {
          "base_uri": "https://localhost:8080/"
        },
        "id": "UycFV4SAF3B5",
        "outputId": "fbeeb7d0-79de-42e8-d747-403e1352266a"
      },
      "execution_count": null,
      "outputs": [
        {
          "output_type": "execute_result",
          "data": {
            "text/plain": [
              "[1, 8, 27, 64, 125, 216, 343, 512, 729]"
            ]
          },
          "metadata": {},
          "execution_count": 7
        }
      ]
    },
    {
      "cell_type": "code",
      "source": [
        "import random\n",
        "randomList = random.sample(range(0, 130), 20)\n",
        "randomList"
      ],
      "metadata": {
        "colab": {
          "base_uri": "https://localhost:8080/"
        },
        "id": "udG8NgkUGeUh",
        "outputId": "e9a37bdf-b3df-4c30-e2e4-e5c162891b65"
      },
      "execution_count": null,
      "outputs": [
        {
          "output_type": "execute_result",
          "data": {
            "text/plain": [
              "[22,\n",
              " 70,\n",
              " 19,\n",
              " 16,\n",
              " 120,\n",
              " 57,\n",
              " 15,\n",
              " 8,\n",
              " 90,\n",
              " 125,\n",
              " 49,\n",
              " 68,\n",
              " 99,\n",
              " 92,\n",
              " 129,\n",
              " 20,\n",
              " 110,\n",
              " 124,\n",
              " 7,\n",
              " 67]"
            ]
          },
          "metadata": {},
          "execution_count": 14
        }
      ]
    },
    {
      "cell_type": "code",
      "source": [
        "from statistics import mean, median\n",
        "def getMeanAndMedian(num_myList):\n",
        "  return mean(num_myList), median(num_myList)\n",
        "\n",
        "# getMeanAndMedian() retorna una tupla amb dos elements i\n",
        "# s'emmagatzema en dues variables separades durant invocació."
      ],
      "metadata": {
        "id": "Jc-WWIHcGoKW"
      },
      "execution_count": null,
      "outputs": []
    },
    {
      "cell_type": "code",
      "source": [
        "mean, median = getMeanAndMedian(randomList)"
      ],
      "metadata": {
        "id": "0pvWS-slHJOS"
      },
      "execution_count": null,
      "outputs": []
    },
    {
      "cell_type": "code",
      "source": [
        "print('Mean:', mean, 'Median:', median)"
      ],
      "metadata": {
        "colab": {
          "base_uri": "https://localhost:8080/"
        },
        "id": "8sERay_xHNzf",
        "outputId": "b8716851-36e5-4ca2-c7ba-4023838d0371"
      },
      "execution_count": null,
      "outputs": [
        {
          "output_type": "stream",
          "name": "stdout",
          "text": [
            "Mean: 65.35 Median: 67.5\n"
          ]
        }
      ]
    }
  ]
}