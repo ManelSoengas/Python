{
  "nbformat": 4,
  "nbformat_minor": 0,
  "metadata": {
    "colab": {
      "provenance": [],
      "authorship_tag": "ABX9TyNwkOuy4tJt/q2FuLPQSCo+",
      "include_colab_link": true
    },
    "kernelspec": {
      "name": "python3",
      "display_name": "Python 3"
    },
    "language_info": {
      "name": "python"
    }
  },
  "cells": [
    {
      "cell_type": "markdown",
      "metadata": {
        "id": "view-in-github",
        "colab_type": "text"
      },
      "source": [
        "<a href=\"https://colab.research.google.com/github/ManelSoengas/Python/blob/main/Python_Probabilitat.ipynb\" target=\"_parent\"><img src=\"https://colab.research.google.com/assets/colab-badge.svg\" alt=\"Open In Colab\"/></a>"
      ]
    },
    {
      "cell_type": "markdown",
      "source": [
        "# **Distribucions de probabilitat  i proves d'hipòtesi**\n",
        "\n",
        "---\n",
        "Les aplicacions analítiques impliquen tasques com la predicció de la probabilitat d'ocurrència d'un esdeveniment, la prova d'una hipòtesi, la construcció de models per explicar les variacions d'un KPI (indicador clau de rendiment) que és important per al negoci, com ara la rendibilitat, la quota de mercat, la demanda, etc.\n"
      ],
      "metadata": {
        "id": "0vhkrJtbdTve"
      }
    },
    {
      "cell_type": "code",
      "execution_count": null,
      "metadata": {
        "id": "ERGaFFqjdNlq"
      },
      "outputs": [],
      "source": []
    }
  ]
}