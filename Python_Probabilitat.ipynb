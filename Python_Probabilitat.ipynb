{
  "nbformat": 4,
  "nbformat_minor": 0,
  "metadata": {
    "colab": {
      "provenance": [],
      "authorship_tag": "ABX9TyPqcM8HirDacDMue4sjz/Po",
      "include_colab_link": true
    },
    "kernelspec": {
      "name": "python3",
      "display_name": "Python 3"
    },
    "language_info": {
      "name": "python"
    }
  },
  "cells": [
    {
      "cell_type": "markdown",
      "metadata": {
        "id": "view-in-github",
        "colab_type": "text"
      },
      "source": [
        "<a href=\"https://colab.research.google.com/github/ManelSoengas/Python/blob/main/Python_Probabilitat.ipynb\" target=\"_parent\"><img src=\"https://colab.research.google.com/assets/colab-badge.svg\" alt=\"Open In Colab\"/></a>"
      ]
    },
    {
      "cell_type": "markdown",
      "source": [
        "# **Distribucions de probabilitat  i proves d'hipòtesi**\n",
        "\n",
        "---\n",
        "Les aplicacions analítiques impliquen tasques com la predicció de la probabilitat d'ocurrència d'un esdeveniment, la prova d'una hipòtesi, la construcció de models per explicar les variacions d'un KPI (indicador clau de rendiment) que és important per al negoci, com ara la rendibilitat, la quota de mercat, la demanda, etc.\n"
      ],
      "metadata": {
        "id": "0vhkrJtbdTve"
      }
    },
    {
      "cell_type": "markdown",
      "source": [
        "Una variable és una característica o mesura que pot prendre diferents valors. Pot ser discreta o contínua, segons el tipus de valors que pot adoptar.\n",
        "\n",
        "# **Variable discreta**\n",
        "* És aquella que només pot prendre valors concrets i separats. No pot tenir\n",
        "valors entre dos punts. Generalment, són nombres enters.\n",
        "\n",
        "**Exemples:**\n",
        "* Nombre de germans d’una persona: 0, 1, 2, 3... (no pot ser 2,5 germans)\n",
        "\n",
        "* Nombre de llibres a la motxilla\n",
        "\n",
        "* Nombre d’estudiants en una aula\n",
        "\n",
        "* Resultat de tirar un dau: 1, 2, 3, 4, 5 o 6\n",
        "\n",
        "# **Variable contínua**\n",
        "* És aquella que pot prendre qualsevol valor dins d’un interval. Pot incloure valors decimals o fraccionaris, i per tant, té infinites possibilitats dins d’un rang.\n",
        "\n",
        "**Exemples:**\n",
        "* L’alçada d’una persona (per exemple: 1,72 metres)\n",
        "\n",
        "* El pes d’una fruita (per exemple: 250,3 grams)\n",
        "\n",
        "* El temps que tardes a fer una tasca (per exemple: 3,45 minuts)\n",
        "\n",
        "* La temperatura en un lloc (com 21,6 °C)\n",
        "\n"
      ],
      "metadata": {
        "id": "Y2WVF_Ti_vCz"
      }
    },
    {
      "cell_type": "markdown",
      "source": [
        "# **Distribució binomial**\n",
        "\n",
        "---\n",
        "La distribución binomial es una distribución de probabilidad discreta con diversas aplicaciones en diversos contextos empresariales. Se dice que una variable aleatoria X sigue una distribución binomial cuando:\n",
        "1. La variable aleatoria solo puede tener dos resultados: éxito y fracaso (también conocidos como ensayos de Bernoulli).\n",
        "2. El objetivo es calcular la probabilidad de obtener x éxitos en n ensayos.\n",
        "3. La probabilidad de éxito es p y, por lo tanto, la probabilidad de fracaso es (1 − p).\n",
        "4. La probabilidad p es constante y no varía entre ensayos.\n"
      ],
      "metadata": {
        "id": "OLiBe9-EAj2R"
      }
    },
    {
      "cell_type": "code",
      "execution_count": 13,
      "metadata": {
        "id": "ERGaFFqjdNlq",
        "colab": {
          "base_uri": "https://localhost:8080/"
        },
        "outputId": "4e69308c-209c-4cd9-9724-70f93518521a"
      },
      "outputs": [
        {
          "output_type": "execute_result",
          "data": {
            "text/plain": [
              "np.float64(0.06584063715436628)"
            ]
          },
          "metadata": {},
          "execution_count": 13
        }
      ],
      "source": [
        "# EcoTech Gadgets és una empresa que ven aparells electrònics sostenibles en línia.\n",
        "# Es sap que el 5% dels dispositius venuts tenen algun defecte de fàbrica i són retornats pels clients.\n",
        "# En un dia determinat, 50 persones van comprar un dispositiu a EcoTech Gadgets.\n",
        "# Probabilitat que exactament 5 clients tornin els articles???\n",
        "\n",
        "from scipy import stats\n",
        "stats.binom.pmf(5, 50, 0.05)\n",
        "\n",
        "# Dona la probabilitat que hi hagi exactament 5 retorns si 50 persones compren i la probabilitat individual de retorn és 5%"
      ]
    },
    {
      "cell_type": "code",
      "source": [
        "import pandas as pd\n",
        "import seaborn as sns\n",
        "import matplotlib.pyplot as plt\n",
        "\n"
      ],
      "metadata": {
        "id": "czD95SukCYbE"
      },
      "execution_count": 8,
      "outputs": []
    },
    {
      "cell_type": "code",
      "source": [
        "range(0,51) #\n",
        "pmf_df = pd.DataFrame({'success': range(0,51),\n",
        "'pmf': list(stats.binom.pmf(range(0,51),50, 0.05))})\n",
        "# Creació d'un diagrama de barres\n",
        "sns.barplot(x = pmf_df.success, y = pmf_df.pmf)\n",
        "plt.ylabel('pmf')\n",
        "plt.xlabel('Nombre ítems retornats');"
      ],
      "metadata": {
        "colab": {
          "base_uri": "https://localhost:8080/",
          "height": 449
        },
        "id": "1wnMPZhcBy40",
        "outputId": "f1582be5-32cd-4366-8fe7-704aa09b11c0"
      },
      "execution_count": 11,
      "outputs": [
        {
          "output_type": "display_data",
          "data": {
            "text/plain": [
              "<Figure size 640x480 with 1 Axes>"
            ],
            "image/png": "[encoded data removed]"
          },
          "metadata": {}
        }
      ]
    },
    {
      "cell_type": "code",
      "source": [
        "stats.binom.cdf(5, 50, 0.05)\n",
        "\n",
        "# Dona la probabilitat que hi hagi com a màxim 5 retorns (és a dir, 0, 1, 2, 3, 4 o 5 retorns)"
      ],
      "metadata": {
        "colab": {
          "base_uri": "https://localhost:8080/"
        },
        "id": "L3b34uLsFo_9",
        "outputId": "d9e028a7-e97a-4940-ee11-ffab1590e1ff"
      },
      "execution_count": 12,
      "outputs": [
        {
          "output_type": "execute_result",
          "data": {
            "text/plain": [
              "np.float64(0.9622238270102227)"
            ]
          },
          "metadata": {},
          "execution_count": 12
        }
      ]
    },
    {
      "cell_type": "code",
      "source": [
        "1 - stats.binom.cdf(5, 50, 0.05)\n",
        "\n",
        "# Probabilitat que més de 5 clients tornin els articles comprats per ells"
      ],
      "metadata": {
        "colab": {
          "base_uri": "https://localhost:8080/"
        },
        "id": "4FsOMXWKGuXa",
        "outputId": "1a6cc338-3974-4c4d-a4c9-c116d9e4de70"
      },
      "execution_count": 14,
      "outputs": [
        {
          "output_type": "execute_result",
          "data": {
            "text/plain": [
              "np.float64(0.03777617298977731)"
            ]
          },
          "metadata": {},
          "execution_count": 14
        }
      ]
    },
    {
      "cell_type": "markdown",
      "source": [
        "Mitjana:\n",
        "\n",
        "![image.png](data:image/png;base64,iVBORw0KGgoAAAANSUhEUgAAAGQAAAAcCAIAAAAY8Y2vAAAAA3NCSVQICAjb4U/gAAAEgUlEQVRoQ+2XWSitbRTHP/P8ZZ7neVaGHIQibuRGkunOhRQXLnBBiZSUkrhAOndEFAcXUoiklBKZx44xQxw65un7+faXdnvvnP3urc6p730v9O7nXc961vr//2uth8br6+tf4qMcAprKmYlWbwiIYAnQgQiWCJYABASYisoSwRKAgABTUVkiWAIQEGAqKksESwACAkw/QVkvLy+9vb1paWnr6+uSk5eXl9PT0799+/bp/0udnZ2VlJSEhoZWVVV9//69uro6NTU1Nja2tLT0+PhYQN7/mu7u7ubn54eHhzc0NIyNjeXk5AQEBOTl5e3v7yt09Qlg3d7ejoyMnJ+f6+vrcwbYTU9PLy4uGhsba2hoyJzK146ODhsbm78/fCwtLdva2p6fn6W3A/3U1JSrq2tRUVFra2tWVpazs3NPT09NTc3Q0NDAwADOFSapcPHh4aG/vz8yMjI5ObmysrKxsZG/o6OjP3/+rK+vv7m5kd4lCVtboSNBiycnJ0jJ19fX3Nycjff39ysrK7yTibwfTU1NCOSR//TLlevr66WlpcTExJmZGYDLzs7Gj46Ojp6eHm6vrq5IiZdf+pEYnJ6eHh0d4QFvnp6eiNTb2xvinZycxsfHd3Z2UNm7K0nYyrr+IIKNjQ1OxbVEWTCzubkJ/1ZWVh/sUuEToOTm5np5ea2urnp4eKSkpIAUAHEcDLGupaUl4xb5NDU1BQYGdnV1yegUOgsKCkxMTLa3t2HaxcWFvdiTC6yQhXyE6oL19PQE20Ts4+MjifXw8HBvb8/f39/IyEj+PHVWgIaUKJC1tTXAolTxBkyzs7MWFhYEIF/1j4+PCwsL9CaCJFTp0w0MDNA+0R4cHISEhEii/fHjB8GbmppKqkQmWnXBIlZqkFjd3NyIleogEyoCriAHlmR6vJI9y9raur29XWEPQgik9y5k3gErIiLCwcGBvimDCBDU1dVNTEyUlZUhTJnk8c9QYktwcLC29ltH4ifI0vLxJm38OT2L+ChDSIaNd54Jkcr/+vWrnZ1dZmamNOHq9Cz8U0oSjVBZpAcT8/PzdJ/4+Hi6TGdnZ3FxMUBL54lGFMoEG3QH0wwiBEuQED85OUlhErOhoaG0k8/pWYTIoL28vERHwM80GRwc5CSKZWtrKygoSPmOK0O7wp/0FNKjG9KSSY8TQYr0AIibCoqQ1KbCvfKLVADtjwEFAXd3d8x05nhFRUVUVJS8MStqlSE8M/jABerQOd2XU1taWpAVN5eEhAQ/Pz+Fp6q8CFjw/+XLF0dHR5zQJZOSkiii8vJye3t77lyCuKFL0KHi4uK4f4SFhTU3N9fW1mZkZMgPiv8CRskqP8BUWFgIn7CtspPftRFV9vX1MUO7u7t5VyYMtZTF7KBhubu729raqiyW37WRvk5Z6OrqcsuRH6MKo1ILLAYHMmbu0iMVev+TF2myc3NzNDvqV8k4VQcL3V5cXJiZmcXExHADUvK8P8SMywS3jeHhYa4d0dHRtHZlAnu7GSljJ9qAgOrK+h/CJ4IlgHQRLAFg/QM3t1Z8jpi2vQAAAABJRU5ErkJggg==)\n",
        "\n",
        "Variança:\n",
        "\n",
        "![image.png](data:image/png;base64,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)"
      ],
      "metadata": {
        "id": "DjprNJgaIUci"
      }
    },
    {
      "cell_type": "code",
      "source": [
        "from scipy import stats\n",
        "\n",
        "mean, var = stats.binom.stats(50, 0.05)\n",
        "print(\"Average:\", mean, \"Variance:\", var)\n",
        "\n",
        "# En una distribució binomial, la mitjana (també anomenada esperança o valor esperat)\n",
        "# ens diu quin valor esperem obtenir \"de mitjana\" si repetim l’experiment moltes vegades.\n",
        "\n",
        "# La variància és una mesura de la dispersió de la distribució.\n",
        "# Ens diu com s’allunyen els valors del nombre d’èxits (retorns) respecte a la mitjana.\n",
        "\n"
      ],
      "metadata": {
        "colab": {
          "base_uri": "https://localhost:8080/"
        },
        "id": "w7DAXbTyHn-8",
        "outputId": "68a05172-529c-4aeb-82eb-b608cc98f836"
      },
      "execution_count": 16,
      "outputs": [
        {
          "output_type": "stream",
          "name": "stdout",
          "text": [
            "Average: 2.5 Variance: 2.375\n"
          ]
        }
      ]
    },
    {
      "cell_type": "markdown",
      "source": [
        "# **Distribució de Poisson**\n",
        "\n",
        "\n",
        "---\n",
        "\n",
        "\n",
        "En moltes situacions, ens pot interessar calcular el nombre d'esdeveniments que poden ocórrer durant un període de temps o espai. Per exemple, nombre de cancel·lacions de comandes per part dels clients en un portal de comerç electrònic, nombre de queixes de clients, nombre de retirades d'efectiu en un caixer automàtic, nombre d'errors tipogràfics en un llibre, nombre de sots a les carreteres de Bangalore, etc. Per trobar la probabilitat del nombre d'esdeveniments, utilitzem la distribució de Poisson.\n",
        "\n",
        "\n",
        "![image.png](data:image/png;base64,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)\n"
      ],
      "metadata": {
        "id": "cUvzZQ4cI4rc"
      }
    },
    {
      "cell_type": "code",
      "source": [
        "# El nombre de clients que entren en una botiga de tecnologia segueix una distribució de Poisson amb una mitjana de 8 clients per hora.\n",
        "\n",
        "# Calcula la probabilitat que entrin com a màxim 6 clients en una hora determinada.\n",
        "\n",
        "\n",
        "stats.poisson.cdf(6, 8)"
      ],
      "metadata": {
        "colab": {
          "base_uri": "https://localhost:8080/"
        },
        "id": "mEHVb9WdJTPy",
        "outputId": "ab11491b-d41c-468e-ff8a-3ec7e1c43167"
      },
      "execution_count": 19,
      "outputs": [
        {
          "output_type": "execute_result",
          "data": {
            "text/plain": [
              "np.float64(0.31337427753639774)"
            ]
          },
          "metadata": {},
          "execution_count": 19
        }
      ]
    },
    {
      "cell_type": "code",
      "source": [
        "# Calcula la probabilitat que en 2 hores entrin més de 20 clients.\n",
        "\n",
        "prob= 1 - stats.poisson.cdf(20, 16)\n",
        "print (prob)"
      ],
      "metadata": {
        "colab": {
          "base_uri": "https://localhost:8080/"
        },
        "id": "bymzC4moJ917",
        "outputId": "01ff15f4-cce2-4029-8532-6019d430f174"
      },
      "execution_count": 21,
      "outputs": [
        {
          "output_type": "stream",
          "name": "stdout",
          "text": [
            "0.13183196570865918\n"
          ]
        }
      ]
    },
    {
      "cell_type": "code",
      "source": [
        "# Visualitzar la distribució de Posisson\n",
        "\n"
      ],
      "metadata": {
        "id": "byZpBRqbLNp4"
      },
      "execution_count": null,
      "outputs": []
    }
  ]
}