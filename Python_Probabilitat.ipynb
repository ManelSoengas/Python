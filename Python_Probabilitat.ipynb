{
  "nbformat": 4,
  "nbformat_minor": 0,
  "metadata": {
    "colab": {
      "provenance": [],
      "authorship_tag": "ABX9TyON6OkzHc2Po8EWAc6fCu0+",
      "include_colab_link": true
    },
    "kernelspec": {
      "name": "python3",
      "display_name": "Python 3"
    },
    "language_info": {
      "name": "python"
    }
  },
  "cells": [
    {
      "cell_type": "markdown",
      "metadata": {
        "id": "view-in-github",
        "colab_type": "text"
      },
      "source": [
        "<a href=\"https://colab.research.google.com/github/ManelSoengas/Python/blob/main/Python_Probabilitat.ipynb\" target=\"_parent\"><img src=\"https://colab.research.google.com/assets/colab-badge.svg\" alt=\"Open In Colab\"/></a>"
      ]
    },
    {
      "cell_type": "markdown",
      "source": [
        "# **Distribucions de probabilitat  i proves d'hipòtesi**\n",
        "\n",
        "---\n",
        "Les aplicacions analítiques impliquen tasques com la predicció de la probabilitat d'ocurrència d'un esdeveniment, la prova d'una hipòtesi, la construcció de models per explicar les variacions d'un KPI (indicador clau de rendiment) que és important per al negoci, com ara la rendibilitat, la quota de mercat, la demanda, etc.\n",
        "\n",
        "Funció de massa de probabilitat (PMF)\n",
        "Distribució acumulada funció de funció (CDF)\n",
        "\n",
        "1. PMF: és la probabilitat que una variable aleatòria X prengui un valor específic k.\n",
        "2. CDF: és la probabilitat que una variable aleatòria X prengui un valor inferior o igual a k\n"
      ],
      "metadata": {
        "id": "0vhkrJtbdTve"
      }
    },
    {
      "cell_type": "markdown",
      "source": [
        "Una variable és una característica o mesura que pot prendre diferents valors. Pot ser discreta o contínua, segons el tipus de valors que pot adoptar.\n",
        "\n",
        "# **Variable discreta**\n",
        "* És aquella que només pot prendre valors concrets i separats. No pot tenir\n",
        "valors entre dos punts. Generalment, són nombres enters.\n",
        "\n",
        "**Exemples:**\n",
        "* Nombre de germans d’una persona: 0, 1, 2, 3... (no pot ser 2,5 germans)\n",
        "\n",
        "* Nombre de llibres a la motxilla\n",
        "\n",
        "* Nombre d’estudiants en una aula\n",
        "\n",
        "* Resultat de tirar un dau: 1, 2, 3, 4, 5 o 6\n",
        "\n",
        "# **Variable contínua**\n",
        "* És aquella que pot prendre qualsevol valor dins d’un interval. Pot incloure valors decimals o fraccionaris, i per tant, té infinites possibilitats dins d’un rang.\n",
        "\n",
        "**Exemples:**\n",
        "* L’alçada d’una persona (per exemple: 1,72 metres)\n",
        "\n",
        "* El pes d’una fruita (per exemple: 250,3 grams)\n",
        "\n",
        "* El temps que tardes a fer una tasca (per exemple: 3,45 minuts)\n",
        "\n",
        "* La temperatura en un lloc (com 21,6 °C)\n",
        "\n"
      ],
      "metadata": {
        "id": "Y2WVF_Ti_vCz"
      }
    },
    {
      "cell_type": "markdown",
      "source": [
        "# **Distribució binomial**\n",
        "\n",
        "---\n",
        "La distribución binomial es una distribución de probabilidad discreta con diversas aplicaciones en diversos contextos empresariales. Se dice que una variable aleatoria X sigue una distribución binomial cuando:\n",
        "1. La variable aleatoria solo puede tener dos resultados: éxito y fracaso (también conocidos como ensayos de Bernoulli).\n",
        "2. El objetivo es calcular la probabilidad de obtener x éxitos en n ensayos.\n",
        "3. La probabilidad de éxito es p y, por lo tanto, la probabilidad de fracaso es (1 − p).\n",
        "4. La probabilidad p es constante y no varía entre ensayos.\n"
      ],
      "metadata": {
        "id": "OLiBe9-EAj2R"
      }
    },
    {
      "cell_type": "code",
      "execution_count": 2,
      "metadata": {
        "id": "ERGaFFqjdNlq",
        "colab": {
          "base_uri": "https://localhost:8080/"
        },
        "outputId": "c2fd5ab2-758d-4111-92ea-6a851d0c05ba"
      },
      "outputs": [
        {
          "output_type": "execute_result",
          "data": {
            "text/plain": [
              "np.float64(0.06584063715436628)"
            ]
          },
          "metadata": {},
          "execution_count": 2
        }
      ],
      "source": [
        "# EcoTech Gadgets és una empresa que ven aparells electrònics sostenibles en línia.\n",
        "# Es sap que el 5% dels dispositius venuts tenen algun defecte de fàbrica i són retornats pels clients.\n",
        "# En un dia determinat, 50 persones van comprar un dispositiu a EcoTech Gadgets.\n",
        "# Probabilitat que exactament 5 clients tornin els articles???\n",
        "\n",
        "from scipy import stats\n",
        "stats.binom.pmf(5, 50, 0.05)\n",
        "\n",
        "# Dona la probabilitat que hi hagi exactament 5 retorns si 50 persones compren i la probabilitat individual de retorn és 5%"
      ]
    },
    {
      "cell_type": "code",
      "source": [
        "import pandas as pd\n",
        "import seaborn as sns\n",
        "import matplotlib.pyplot as plt\n",
        "\n"
      ],
      "metadata": {
        "id": "czD95SukCYbE"
      },
      "execution_count": 3,
      "outputs": []
    },
    {
      "cell_type": "code",
      "source": [
        "range(0,51) #\n",
        "pmf_df = pd.DataFrame({'success': range(0,51),\n",
        "'pmf': list(stats.binom.pmf(range(0,51),50, 0.05))})\n",
        "# Creació d'un diagrama de barres\n",
        "sns.barplot(x = pmf_df.success, y = pmf_df.pmf)\n",
        "plt.ylabel('pmf')\n",
        "plt.xlabel('Nombre ítems retornats');"
      ],
      "metadata": {
        "colab": {
          "base_uri": "https://localhost:8080/",
          "height": 449
        },
        "id": "1wnMPZhcBy40",
        "outputId": "3fa3dc42-3888-492c-a577-aa62481a82c2"
      },
      "execution_count": 4,
      "outputs": [
        {
          "output_type": "display_data",
          "data": {
            "text/plain": [
              "<Figure size 640x480 with 1 Axes>"
            ],
            "image/png": "[encoded data removed]"
          },
          "metadata": {}
        }
      ]
    },
    {
      "cell_type": "code",
      "source": [
        "stats.binom.cdf(5, 50, 0.05)\n",
        "\n",
        "# Dona la probabilitat que hi hagi com a màxim 5 retorns (és a dir, 0, 1, 2, 3, 4 o 5 retorns)"
      ],
      "metadata": {
        "colab": {
          "base_uri": "https://localhost:8080/"
        },
        "id": "L3b34uLsFo_9",
        "outputId": "2d1ade9d-b3a3-493b-e68e-3e8944249e4b"
      },
      "execution_count": 5,
      "outputs": [
        {
          "output_type": "execute_result",
          "data": {
            "text/plain": [
              "np.float64(0.9622238270102227)"
            ]
          },
          "metadata": {},
          "execution_count": 5
        }
      ]
    },
    {
      "cell_type": "code",
      "source": [
        "1 - stats.binom.cdf(5, 50, 0.05)\n",
        "\n",
        "# Probabilitat que més de 5 clients tornin els articles comprats per ells"
      ],
      "metadata": {
        "colab": {
          "base_uri": "https://localhost:8080/"
        },
        "id": "4FsOMXWKGuXa",
        "outputId": "f8cc2b19-10f9-49e6-aafb-9a76a7f58532"
      },
      "execution_count": 6,
      "outputs": [
        {
          "output_type": "execute_result",
          "data": {
            "text/plain": [
              "np.float64(0.03777617298977731)"
            ]
          },
          "metadata": {},
          "execution_count": 6
        }
      ]
    },
    {
      "cell_type": "markdown",
      "source": [
        "Mitjana:\n",
        "\n",
        "![image.png](data:image/png;base64,iVBORw0KGgoAAAANSUhEUgAAAGQAAAAcCAIAAAAY8Y2vAAAAA3NCSVQICAjb4U/gAAAEgUlEQVRoQ+2XWSitbRTHP/P8ZZ7neVaGHIQibuRGkunOhRQXLnBBiZSUkrhAOndEFAcXUoiklBKZx44xQxw65un7+faXdnvvnP3urc6p730v9O7nXc961vr//2uth8br6+tf4qMcAprKmYlWbwiIYAnQgQiWCJYABASYisoSwRKAgABTUVkiWAIQEGAqKksESwACAkw/QVkvLy+9vb1paWnr6+uSk5eXl9PT0799+/bp/0udnZ2VlJSEhoZWVVV9//69uro6NTU1Nja2tLT0+PhYQN7/mu7u7ubn54eHhzc0NIyNjeXk5AQEBOTl5e3v7yt09Qlg3d7ejoyMnJ+f6+vrcwbYTU9PLy4uGhsba2hoyJzK146ODhsbm78/fCwtLdva2p6fn6W3A/3U1JSrq2tRUVFra2tWVpazs3NPT09NTc3Q0NDAwADOFSapcPHh4aG/vz8yMjI5ObmysrKxsZG/o6OjP3/+rK+vv7m5kd4lCVtboSNBiycnJ0jJ19fX3Nycjff39ysrK7yTibwfTU1NCOSR//TLlevr66WlpcTExJmZGYDLzs7Gj46Ojp6eHm6vrq5IiZdf+pEYnJ6eHh0d4QFvnp6eiNTb2xvinZycxsfHd3Z2UNm7K0nYyrr+IIKNjQ1OxbVEWTCzubkJ/1ZWVh/sUuEToOTm5np5ea2urnp4eKSkpIAUAHEcDLGupaUl4xb5NDU1BQYGdnV1yegUOgsKCkxMTLa3t2HaxcWFvdiTC6yQhXyE6oL19PQE20Ts4+MjifXw8HBvb8/f39/IyEj+PHVWgIaUKJC1tTXAolTxBkyzs7MWFhYEIF/1j4+PCwsL9CaCJFTp0w0MDNA+0R4cHISEhEii/fHjB8GbmppKqkQmWnXBIlZqkFjd3NyIleogEyoCriAHlmR6vJI9y9raur29XWEPQgik9y5k3gErIiLCwcGBvimDCBDU1dVNTEyUlZUhTJnk8c9QYktwcLC29ltH4ifI0vLxJm38OT2L+ChDSIaNd54Jkcr/+vWrnZ1dZmamNOHq9Cz8U0oSjVBZpAcT8/PzdJ/4+Hi6TGdnZ3FxMUBL54lGFMoEG3QH0wwiBEuQED85OUlhErOhoaG0k8/pWYTIoL28vERHwM80GRwc5CSKZWtrKygoSPmOK0O7wp/0FNKjG9KSSY8TQYr0AIibCoqQ1KbCvfKLVADtjwEFAXd3d8x05nhFRUVUVJS8MStqlSE8M/jABerQOd2XU1taWpAVN5eEhAQ/Pz+Fp6q8CFjw/+XLF0dHR5zQJZOSkiii8vJye3t77lyCuKFL0KHi4uK4f4SFhTU3N9fW1mZkZMgPiv8CRskqP8BUWFgIn7CtspPftRFV9vX1MUO7u7t5VyYMtZTF7KBhubu729raqiyW37WRvk5Z6OrqcsuRH6MKo1ILLAYHMmbu0iMVev+TF2myc3NzNDvqV8k4VQcL3V5cXJiZmcXExHADUvK8P8SMywS3jeHhYa4d0dHRtHZlAnu7GSljJ9qAgOrK+h/CJ4IlgHQRLAFg/QM3t1Z8jpi2vQAAAABJRU5ErkJggg==)\n",
        "\n",
        "Variança:\n",
        "\n",
        "![image.png](data:image/png;base64,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)"
      ],
      "metadata": {
        "id": "DjprNJgaIUci"
      }
    },
    {
      "cell_type": "code",
      "source": [
        "from scipy import stats\n",
        "\n",
        "mean, var = stats.binom.stats(50, 0.05)\n",
        "print(\"Average:\", mean, \"Variance:\", var)\n",
        "\n",
        "# En una distribució binomial, la mitjana (també anomenada esperança o valor esperat)\n",
        "# ens diu quin valor esperem obtenir \"de mitjana\" si repetim l’experiment moltes vegades.\n",
        "\n",
        "# La variància és una mesura de la dispersió de la distribució.\n",
        "# Ens diu com s’allunyen els valors del nombre d’èxits (retorns) respecte a la mitjana.\n",
        "\n"
      ],
      "metadata": {
        "colab": {
          "base_uri": "https://localhost:8080/"
        },
        "id": "w7DAXbTyHn-8",
        "outputId": "4220f48e-0ab1-4c41-b2ca-c026ab195980"
      },
      "execution_count": 7,
      "outputs": [
        {
          "output_type": "stream",
          "name": "stdout",
          "text": [
            "Average: 2.5 Variance: 2.375\n"
          ]
        }
      ]
    },
    {
      "cell_type": "markdown",
      "source": [
        "# **Distribució de Poisson**\n",
        "\n",
        "\n",
        "---\n",
        "\n",
        "\n",
        "En moltes situacions, ens pot interessar calcular el nombre d'esdeveniments que poden ocórrer durant un període de temps o espai. Per exemple, nombre de cancel·lacions de comandes per part dels clients en un portal de comerç electrònic, nombre de queixes de clients, nombre de retirades d'efectiu en un caixer automàtic, nombre d'errors tipogràfics en un llibre, nombre de sots a les carreteres de Bangalore, etc. Per trobar la probabilitat del nombre d'esdeveniments, utilitzem la distribució de Poisson.\n",
        "\n",
        "\n",
        "![image.png](data:image/png;base64,iVBORw0KGgoAAAANSUhEUgAAARsAAABnCAIAAAC/2HF4AAAAA3NCSVQICAjb4U/gAAASCUlEQVR4Xu2ddZAdxRPHSQgWJLi7BEKgILgTvHCnkACBguDuboEghUvhDglOSJAETUIKOSTBr3B3D26/D7+umlrW3ry3szP7Nn1/XN3N9nb39M53Z6a7p7fLP//8M4n+qAXUAo4s0NURH2WjFlAL/GsBRZSOA7WASwsoolxaU3mpBRRROgbUAi4toIhyaU3lpRZQROkYUAu4tIAiyqU1lZdaQBGlY0At4NICiiiX1lReagFFlI4BtYBLCyiiXFpTeakFFFE6BtQCLi2giHJpTeWlFlBE6RhQC7i0gCLKpTWVl1pAEaVjQC3g0gKKKJfWrCWvu+6669Zbb22Xrv31119hVVVEhbV/1aUfe+yxJ5xwQv/+/Z999tkq6/rpp5/uueeeiy222ODBg8PqqYgKa/9KS+/o6FhuueVee+21Aw888LvvvquyrnPMMcchhxzS2dm54oorhtWzW1jxKr3KFph99tmXX355NJzm/z9VVhXdgNNMM820yCKLhNVT56iw9q+09HnmmUf0e+WVV2aZZZawurKuO+KII3bddVeQk6rJ008/vfLKK6de8tmoc5RPa7elrGuvvfaee+4Juz8B0muttdZXX32FBe++++6PP/54uummi1nzqaee2nDDDWnEOXH99df/+eefe+21l3+L6xzl3+btJPHJJ5/cZ599FlpoockmmyyU3r/88stWW23FTmn//fefb775JkyY8Oijj8aUAT/PPfccc9SPP/64yy67MF/9/fffYRSmXp/+qAVSLfDee++x2DvooIO23nrrVAI/jUceeeR5550HQhD32Wefde3a9Y477oiJBk6TTjrpBx98sMcee3z++ed+FEuVoqu+MC+yUFI33nhjfHep0l966aVpp53WXGIq2HTTTfFMsHW55ZZbUm/x0Pjhhx/+8ccf+PFE1myzzZbqJmFSWmCBBbbddttllllm1lln9aBYlghFVJZl6tl+5513Zi2Hpp56atNn3r79+vWDcsiQIUwICy64YEBznHbaaUY6qzugHlVVLrGJYu7afvvtTz31VCa0KaecMpTCuo8KZfkwcqeaaiqGY+pPVKHjjjtu7Nixw4YNY9Z64403xHX++uuvf//99zl6v/322zlXzaW33nrLhkxo8DdG8cOqD5xH51IhY44iGI0rgncBbgl7/u4pU9eC2jgxW4A13uSTTz5q1Cgxwo477shacejQoQcccECOWUAg3otzzz03h4ZLt912W7du3fAc5pNlXZV8qG+//TZK8MUXXwCMl19+mUY87HgvvvzyS14HWUxKbZ+kVO7KPKwF2KMzqzSlwzPPPMOS6ZprrjF38e5nvC655JKffPJJDqvff/99iy22gJJFVxaZwGmFFVYgAyOLJqcdzDA7TT/99DGa++67j0a2W7TT5RlnnBHn5DvvvJPDqrxLiqjybBuM808//XTiiScyqhjfXbp0wf1dRBXCO3jSfvvtt4ZMANXmm2+O0PPPPz9JzH6M2QlXR2twYtrB9wDzZZddNsb8m2++iaoHpY22SQ2dtCiinJixQkyeeOIJHAlnnHEGL2njo3vwwQf9qMhQxkPIuL/ggguiEvGIACeyBGMLNkutwOoaa6whex4cepZ3BSFTRAUxe1lCgVP37t2vu+46I6BXr14MxJtuuqkskQm+gGqTTTZB6IUXXigXOQ8CnJhbWoMTTMgrhyFdozsnnXRSQmaFGhRRFXoYBVX5+uuvSRXlXW74sL7CTTfDDDOwdy/IvKnbDaguuugiAyfWZk0xMcQgU5avrBt79ux5++23t8bHz12KKD929iFlv/32Y+SRgyfC2E707dsXxxeeZR/i/ysDUOEhRB9mJ6KuLcNpxIgRJEPAh0ATXha2heT4+e+OvURFlL2tKk1J3JNYE1FO5iX8XYMGDSKBiJOCLQ/l4r296qqrZOdz1FFHtcaNUBhOPJgQuoXD448/TgcDeh1seqE5E/LQ2/43vgcySsnIxoXN8m+bbbYhq4gDTqE6dvPNNxNvXW211cgbOuuss4jScha4KWV4NWy22Wb8xj3IzpB7n3/++bnmmotYWVN8fBPbwE5pqm8B0kkZOpxgfffdd4NrC5yYTFZddVUywQkTkTmObiQT2StGttF6663HXUDIxMGINa+55pr2TIJQ6qoviNndC2W0Mf62224796yb5Aic2PmsssoqP/zwg9yK73vLLbdEvYEDB1oyIz8Depx7zEvmFpzv0Q6C1ZEjR1oy9EamiPJm6nIF7bTTTgzBlVZaKSbm/ffff/jhh8uVHeFOBAw4cU7JwEkumoyK008/vaEyV1xxBX3BCRE7tUEyRHSOIvnwkUceacjNM4EiyrPByxJ3yimnMApZa7GbNzLIbVt00UUJUpUl9b98ydYDTqA6NfXJgIroc44+aCunG2OrxF9//VVgduONN5KOxLHCddddN4dPqEvhEYV1iFqE6n+zcnGjEWDZbbfdjjnmmKx7GVj+VyPk4/FSZ8zNO++8jEWcAWxj+Hv8+PFZerptHzNmDHBiI5cKJ5EFqHA2oGRWxJnsdUJqEIhzL6ohfpeoTwIfIOcL3XbBCTcHiCK7Htdt7Ofnn3+20Y8EZ5y8qcsSOMSZTphgeLKGzrlqI7oFGl6K4szlkeOezuLAIJ555pmzBk3WXcXbcaYJqFAPPY8++mhMVJytJQeeCMmEOXASPvi+jz/+eDwWSbYsFHv37o3ypNKCnyQBMOMqPwsvvDCezCRBFVocIIozoUSyWW9Ib/k9xRRTgBNC9UsvvfTee++dlQXMAQHSnDnNkmoIci4JsER5UrvDUBLriFbnYQT72ZTzlpWAoznskKo863teqA2PNqTeW6SRJR8ZdOhW8aBNa30Eh5deeum9997r803RrKoOECUiiYfI6CcFS/LqqVxDaI/xR9Q8CRuOjgE5PFQ5GhOLWGeddYRtch5jEgNy7FYpjkN+dA4fh5fY6KMPPSK/O58t+2b6TtZ2PplerZkFnCHKnN/k5FnURocffjhDEDdodMcMAVMK0xrHQvMNyvzG8IVDMpoBXFnbvPDCC/kc3F7lhA/KJA8UJKWQrEC8lQQcQivJq9pSVws4Q9Tw4cMZaryVYzsoSqvJJMNe2RjxgQceoHGHHXawMevOO+8M8dxzzx0dmqwYWVuSlmLDwSHNwQcfjDL5p1mNOMkSSD0s5FAlZVUpCzhDFImMDLXFF1882T0pVhhd4MkRmuRCLnkvLcxCgkmTdMx8yOxEZcZU+lIbpaw2Z7NtpDDBojnl7W2IlaYeFnCGKDkRnbovEgcDIUgxGS4dphd+LP2B3EUONUOTkDl/4wXC4UE5Af8PgJCIOHBjmT7s4rJqxMlB2oaLW/99UYklWcBZLSSyRRj0ffr0kfnE/GY+AQP8K45R/mB9iCeKaEnUlRe7K/avlGtjl08xUc4skOt15pln5t9SxlVmS3x9pJ/OP//8wp+ncuWVV9JCPugll1ySFIrDnUbcU8lL2lJLC7jJPcetR6VCDMTsETPTxRdfTAteckmT4e/HHnuM3+R92RuUM6F8c+HNN98kUt6jRw8O/ESd9fl87r//fvtyVuzWqJ+axZCicFHNQRd7PAK+VMDCLUl2QvJGXhzk1LDfIzqUvOpQtyRzbQljASdz30MPPSTac8otypDTb7QTdsRFZto32mgjGi+77LKmRJsZgMI3Td3IuQZ7y7K8zGEurM455xxogBDEHFjg6AT/Zjn0CEwhnUJCqWwd6pbKXxv9W8DNHCXOA+JLEv1kDJEhcvbZZ/N6ZmnHCg1fuRnWfLaEv5v9eor5kAlVTsWxYYkTil2dfPLJlsTJYqXRG5kb+RdNeHFssMEG5CJJijSNpuMxQdJNgm+pCjjULZW/Nvq3QBdAXFwq71oWP3w9AWcDCzy2SbzCSdDiYAx1Ntj2REXMOeecgIqESPKILUXjzMDJhs+Qb1cSnsKHZj5tZMmhONlHH32EUJI42RnyVRV6QfJeQ7ZgCbMwS7NElMBaw1uaJSCQwHq42bsmQnpOLtoPuZbt43KO4tuShx56KBFeEIXL2GzfY8rJt4ezXurJnoB5anCDKJJ6GNP4OcisZemVpCy1RTZRbOfYaL366qsMYmK4ZGzkC5Vu0oWsauP5t9tcZUUtwUAb4omZhvHpAVEOvOcMLHlOlkXhllpqKehJHbJc45LljcNDXO3yjS0mq4YZmZbM7cl4WUg32QFKZX2brSDY4y6AZy9IKdvaAg7mKBOBTbrOU9+I+JrJzpZa1akE0UZORlx++eW45sXVzreM2JuxCLz66qvNEM9nwiaKzNF8GnMV6JLikEosc9Rhhx1GiVa8EeRDUMqYv1OJTSM7Lv7Gt55K5kq3VObaGMQCDhAlkSiJydj0gX0FZIREGxLjCdh99905ZS3leaGnAOL666/PBoYabkziNjsTRj9boIayhCC25TN3sQuSFwep9DTySSX2h3ScQ0Grr756DnN5cWQhyoluOdL1UgALFJ9hxQVMnQ1LVlJ0ihBTPj0OAD6tNWDAgBgZ51LFTJapQPlSLK/KBEUoTL60x11S4Bt453OQRGGK8eeT6dXaWKDoPgo3g3xSLjn0s2zEa5v9OrVO5dBHKhn5tZwqww2QPDSBRPF5LLHEEmZ8pzJx2ChLwbXXXtvwJGgrwJZsXVaDqUWIZCXc0dHhUBllVWULFMpCYnBTiEMWNiyB5FPeDedZQjSslDg0xkHuJDHGItWIOm8kOpCczjGQGA2eaAKmNFJblHGMxyLJxHmLzFEc4jCcCe+SZ8i/HCylMDKZe1RvjcllUTdu3Dj8k0LpXCtlWEULtAx33G6xeCgzD6PKxgt3ww03YAsy9GLSKT9CmDhqJqaj6IFN/AHmXLqQEf5i2dlyLyxvBBWk9sY+8iXfIEMNkvdipX+EreR5cAjcUoqS1cACbiK8zb4qMBzveOYoYrWESpu93T89SztK/CRTe/maOl3guL4p8GB0w5lB4jkRYebS5Ezrvwsq0ZMFQr0VONLLWx9/XSgFypZLtIpHaBmjK1sZ5e/NAkU9E0UUJfUBUHmrJldE1Wbv5X1BVNfyqG+zzCtFb1NurVIKl61MSETRNyq64Cqs2YE8BhlJFRX/cJiTgWVZbs3IwonFa5QDPlkHNJ1oFZZJYETReU6CUDYorBXcSqcCFscQ3fKsLDfLcmuiP04a2cxwWqyyPSqomIOciYIbPo5F8FOQSaVu33fffSulT6nKcIyAIArJKzYRAhyzogyr/VK1Csi8UDwqoN4quiIWkDNjZD/b+DONXzcr26sinSqihiKqiPX03klilQLyLWK+ECe5nfnEbXpVEdWmD64qaguizAnrfLUMogJ+fDFfw+JXFVHFbTjxcuBo6Ysvvkj/Y4gi3zL1tI6ZmhRRE++g0Z7nWKDZcmukdEoRK8muzuHcvpfC+/ra13aqebPl1sj8BFScOaj616kLPFpFVAHjTfS3RjdRZEhTV5iihaz3yBfBpZ5aSoR6PlJopK7GU0TV9cn66FcL5dY4W1BeERsffW4kQxHVyEJ6PcMC1Brgh+R6vk1K9j2xJlO9MOOOf5tBFEkJOQTtfkkR1e5PMJj+rZVbk7JQwZQuX7B6z8u3cU0lyJKPb8ZSW5fMYBL85HN1+d1ljmpY5DCfQ8WvKqIq/oCqq1603BqgQlHKrTVUl3psDUuyNWRSZYIwZ3irbBHVzcYCzEjUISXCS21dauzwZRbqF+ByGD16dH65NRvmbU2jc1RbP75gyhPbBU6UW5NPzlGHQz7vMHDgwHydcEvU29eniMofAHo13QKyiaI4lCmwIV8opjgph7K5h0KFFOGI3cymq2fPnoBQqqams27zVkVUmz/AQOq3Vm6N8sAUjQNpfEM5kOKli1VElW7iWgoAUZwapFBhtHeUziY8xYl3LvGZr2R9KMowCn2N91rqmajlgC+9Uy2UWxOdOjs7+R6k+Shz6Yp6F6CI8m5yFVhrC+iqr9aPVzvn3QKKKO8mV4G1toAiqtaPVzvn3QKKKO8mV4G1toAiqtaPVzvn3QKKKO8mV4G1toAiqtaPVzvn3QKKKO8mV4G1toAiqtaPVzvn3QKKKO8mV4G1toAiqtaPVzvn3QKKKO8mV4G1toAiqtaPVzvn3QKKKO8mV4G1toAiqtaPVzvn3QKKKO8mV4G1tsD/AN/CZq88iNEeAAAAAElFTkSuQmCC)\n"
      ],
      "metadata": {
        "id": "cUvzZQ4cI4rc"
      }
    },
    {
      "cell_type": "code",
      "source": [
        "# El nombre de clients que entren en una botiga de tecnologia segueix una distribució de Poisson amb una mitjana de 8 clients per hora.\n",
        "\n",
        "# Calcula la probabilitat que entrin com a màxim 6 clients en una hora determinada.\n",
        "\n",
        "\n",
        "stats.poisson.cdf(6, 8)"
      ],
      "metadata": {
        "colab": {
          "base_uri": "https://localhost:8080/"
        },
        "id": "mEHVb9WdJTPy",
        "outputId": "695fed21-1fee-418c-abdf-ed56cc25f160"
      },
      "execution_count": 8,
      "outputs": [
        {
          "output_type": "execute_result",
          "data": {
            "text/plain": [
              "np.float64(0.31337427753639774)"
            ]
          },
          "metadata": {},
          "execution_count": 8
        }
      ]
    },
    {
      "cell_type": "code",
      "source": [
        "# Calcula la probabilitat que en 2 hores entrin més de 20 clients.\n",
        "\n",
        "prob= 1 - stats.poisson.cdf(20, 16)\n",
        "print (prob)"
      ],
      "metadata": {
        "colab": {
          "base_uri": "https://localhost:8080/"
        },
        "id": "bymzC4moJ917",
        "outputId": "a08b6a53-fcc3-4ace-e39d-3ecd83a76cf5"
      },
      "execution_count": 9,
      "outputs": [
        {
          "output_type": "stream",
          "name": "stdout",
          "text": [
            "0.13183196570865918\n"
          ]
        }
      ]
    },
    {
      "cell_type": "code",
      "source": [
        "# Visualitzar la distribució de Posisson\n",
        "import seaborn as sn\n",
        "\n",
        "\n",
        "# Rango (0.30)\n",
        "pmf_df = pd.DataFrame({'success': range(0,30), 'pmf': list(stats.\n",
        "poisson.pmf(range(0,30), 8))})\n",
        "# Crear un diagrama de barres de les trucades x i pmf i y\n",
        "sn.barplot(x = pmf_df.success, y = pmf_df.pmf);\n",
        "plt.xlabel('Number of Calls Received');"
      ],
      "metadata": {
        "id": "byZpBRqbLNp4",
        "colab": {
          "base_uri": "https://localhost:8080/",
          "height": 449
        },
        "outputId": "f6ed0a17-c925-49aa-a080-79b179e8bf78"
      },
      "execution_count": 10,
      "outputs": [
        {
          "output_type": "display_data",
          "data": {
            "text/plain": [
              "<Figure size 640x480 with 1 Axes>"
            ],
            "image/png": "[encoded data removed]"
          },
          "metadata": {}
        }
      ]
    },
    {
      "cell_type": "markdown",
      "source": [
        "# **Distribució exponencial**\n",
        "---\n",
        "La distribució exponencial és una distribució contínua d'un sol paràmetre per a la qual s'utilitza tradicionalment modelització del temps fins a la fallada dels components electrònics.\n",
        "\n",
        "![Exponential_function.png](data:image/png;base64,iVBORw0KGgoAAAANSUhEUgAAAOsAAAA3CAIAAABilCrWAAAAA3NCSVQICAjb4U/gAAAAGHRFWHRTb2Z0d2FyZQBtYXRlLXNjcmVlbnNob3TIlvBKAAAOV0lEQVR4nO2de1AT1xfHTxZCUkh4REAeBggFkQH6EJQ6/GoZCral1HbkodDWogUtQ0EeBXlZ29JqH6NYRqiVMoAdbB21KC1FkJlCcRgprwpUU+WZVCCAkIC8grC/P3aaySRkSXaDkOl+/gp3zz33bO733r177o3SUBQFCgqdBVntACgoSEEpmEK3oRRModtQCqbQbSgFU+g2lIIpdBtKwRS6DaVgCt2GUjCFbkMpmEK3oRSsG1y+fPn8+fOrHcVaRH+1A6BYnoyMjCtXrnR1dTk5OW3dunW1w1lbUHPwWqepqcnLy+v27dvx8fFisXi1w1lzUHPwWsfKymrLli0AwGKxWCzWaoez5qDmYOIMDg6mpKS88847f//998q1wuVysQ+dnZ0WFhYr15CugmoVgUBw6NAhd3f3kJCQO3fuLGnT0dGRm5tLzP8PP/xQXV1NIkCt0dHRYW5ujn2HLBZLIpGsaHOFhYUIgkilUllJbW3tTz/9hH1uaWnJzMyUv/rfQZsKvnDhgqenZ1RUFDZVHD58WNmmrq7OwsLi+vXrxJq4deuWubn5999/Ty5SskxPTzs7O3t4eLz//vv29vYAIBPTSlBfX29gYODs7Cwrqaio8Pf3Z7PZU1NTTU1NgYGBAQEBk5OTKxfDmkVrCr548aKZmZlAIEBR9J9//omOjh4cHFSwuXr1KpPJLC4uJtNQTU2NgYHBiRMnyDghSWpq6smTJxcXF1EUHRoaQhDk4sWLK9RWX1+fhYXFoUOHgoODZYUtLS3z8/MWFhZ5eXnvvvvuKs6+s7OzWmx9fn6+tLQ0KSkpLi7uu+++m5qaWraKdhQskUisrKwSEhJwbIaGhszMzCIiIsg3l5mZqaen19zcTN4VAQQCQWJionyJsbFxZWWl+h7S09P/pwIFy8nJSQ8Pj8DAwNbW1uTkZIWrUVFRNjY2IyMjxG5EK/D5fAcHh7Nnz5LXcVdX18aNG21sbE6ePHnq1Ckul2tlZfXHH3/g19KOgpOSkgCgtrYWxyYsLAxBEFWLY40YGxszNjbevHnzo0ePyHvTFIFA8PDhQ9mf8/PzCIL8/vvv6nuYmZl5qAJ5s8XFxddff93NzW1iYqKwsDAvL0/BT3Z2NovFmpmZIXM7JJmYmIiMjNTX17e3tz9z5szc3BwxP2KxmMvlstns3t5erEQgEJiYmBgbG/f39+NU1IKCp6amGAwGg8HAif7XX38FgPDwcPLNYRw5cgQAcnJytOWQMEKhEADa2tq07jk9Pd3c3LynpwdF0ZSUlJKSEhRFb9++LRaLsQ9ZWVksFmtFl+Bq0tXVtW/fPn19fS6Xm5+fPzs7q6mHuLg4AEhJSZEvTE9PB4CQkBCcilpQ8C+//AIAzz33HI7Na6+9BgCEX+CU6enpAYBNmzZpyyFhsM3e8fFx7botLS01MDCoq6vD/oyIiHj11VevXr0aFxd348aN1tbW4ODg2dnZ8PDwgICA5ubm8+fPazcAAnR3d+/fv19fX3/Dhg2nT59WX8dSqZTD4QDAjRs35Mtv3rwJAAwGAyfVowUFY6PnvffeU2UwMTGBTdLT09P4rkQikXLhgwcPllxjPfnkkwCglWUJYTo6OthstqmpKb6ZSCTSKN3W2NjIZDILCwtlJRkZGQDg4eExMDBgbW3N4/Gwp21DQwOCIKGhoQsLC4TuYOlolQtV9YIyPT09UVFRdDrdxsbm66+/VmeRU1lZCQAIgiiso2ZmZvT19QEAJ/tEXMFDQ0O7d+8OCgrCRo+Li0tQUFBQUBD2sJMHm6X8/PxwvA0ODj7//PMAIF99bm4uJiYGQRAnJyflJe/BgwcB4Pjx44RvgSQjIyM8Hg8APD09lzSYmpr68MMPsZFGo9FiYmIIt7WwsNDc3Iyt00QikbwsRkdHCbtVgEAvqKK3tzc6OppOp1tbW+fk5OBPXgcOHMAkpHzJw8MDAMLCwlTVJa7ghoaGU6dOffrpp1hWPzExsaSkpLq6WmEYoSgaFRUFAFlZWapcjY+Pu7m5sdls+dtYXFwMCwszMTGh0+kWFhbKQ/ncuXMAsGPHDsK3QAapVLp9+3bs3kNDQ5UNamtrHR0djx071tPTU1paillqlLJ4zBDrBXz6+voOHDhgYGCwfv36EydOqNKxn58fALzwwgvKlwICAgBg27Ztqpogu4pobGzE+mZiYkKVTWBgIADk5+erMggODs7NzRWJREwmEwCwBEpmZqa3t7dYLO7u7u7u7lauVVNTgz1YVbnNy8vboDY4A2xJoqOjAcDQ0NDV1fXo0aMKV2traw0NDYuKimQlrq6u+E/DVYdYLyzL+Pj4/v37sZ1LVQlQ7MsJCgpSvrRr1y4A4PF4qvyTPdnz119/AYCdnR02dpdkcHAQAHD29NPS0ry8vADglVdeKSsru3DhwuTk5I8//tjY2GhiYmJiYrJkLczh0NCQKrceHh6RkZFq3oi3t7ealgCQm5tbUFBAo9FKSkoyMzPd3Nzkr46NjQUHB3t5eclal0gkQqHQzMzspZdeUr+VxwyxXsBhbGwsJycnNzd3cXExLS0tOTlZtg+vANaJRkZGypcwXeH0Mtk5GMsEBwYG4thYW1vDctliDOxpy+VynZycbt26hW+MDQwajTY/P69Z0OSoqqrS09MDgE8++UQikdBotM7OTnmD2NhYACgrK8P+HBkZ8fX1tbe3v3nz5uOMkzAa9cKSjIyMpKens9lsNpudnp6+7Erd0tISAHbt2qV86c033wQAnHdlsgrGJpUlj0AoxFdfX7+sN4lEwmAwAOCbb75Z1nh4eBgbhISz6ATg8/mmpqYAsGfPHhRFf/vtNwRB5AN4+PDhE088gSCIWCwWiUTHjx+3sLCIjIwcGxt7bEGSRKNeUEAkEqWmphoZGbHZ7IyMjAcPHqhTC3td8/f3V760c+dOAHB1dVVVl+zpys7OTgB45plncGywOXhkZGRZb8bGxj4+PgAwOjq6rDHmkMPhGBgYqBktScRi8c6dO8Vi8ZYtW4qKigCgpaXF1tZWPoDKysqZmRkWi/XGG2/4+/tLpdL29vaioiIzM7PHEyR5NOoFGUNDQ8nJyTwe78yZM4mJiX19fZ999hmWp1qW9evXA4BEIlG+NDk5Cf9KaElIrYMlEsn9+/cB4Omnn8Yxs7KyunXrlmzKxKGtrQ1LYpeVlWVlZeEbYwrGbn5J6uvrq6url20Uw9vbOygoCMdgYWEhLCzs7t27tra22BElAGhtbXV0dJQ3a2pqAgBXV9eioiIHBwc1W19TaNQLADAwMPDll1+ePXuWTqcnJycnJiZqOlw3btxYU1Nz7949FEVpNJr8JWzr6qmnnlJVl5SCsdc4IyMjFxcXHDNsAIlEInxv09PTe/fuLS4u3r17d2tra29vL5ZtVQU2JHAU3NHRUVxcjN+oPPgKTkxMvH79uqGhYXl5uWxKuHv3rryCHz161NzcDAD29vY6Kl9Ne6G/v9/FxYXJZKakpCQkJBB71ISEhOTn54vF4q6uLmdnZ1n52NhYf38/AISGhqqsrOlCR55vv/0WAHx8fPDNCgoKQEWuRJ7w8PCkpCQURbdt2wYAn3/+OVZ+79497ByjAh988AEAZGRkEIpdM7A7pdFoCqcoORyOfBYzMzPzxRdfhKX22Pv7+7W4qa4Od+7cCQ4OjouLU3MxiqFpL/T19R09epTkpvrCwgI2Eylsh127dg0AbGxslmwag5SC4+PjQek0hjLDw8N6enosFks5aSAUChsaGqRSaWxsrLu7O5bx/uqrrwCAx+PNzs62trY6OzsPDw8ru3322WcBoKmpicwtqENtbS2dTgeA7Oxs+fLZ2VlM1ufOnevo6Ni7d6+/v//HH38MAAiC8Pl8meXPP//s4uKiTjZGi2C7/QDg6emJn64h0wvaAjuq5evrK18YEREBAMeOHcOpSErBvr6+AFBeXq6mpcK5DRRF3d3dAcDY2JjD4cgS5kKhEEEQANi0aROTyayoqFB2ODo6SqPRuFwumfjVobu7e926dfBv8kGemZkZ+Xc4U1NTgUDQ2NiIreTs7Oyys7O/+OILHx8fOzs7YmkpMgwPD8fHx2PfJP5Pswj3AoqiEomkWG3u37+vKobZ2VlPT0+QS4CUl5fTaDQfHx/88xikFMzhcGg0mjoPqZKSEgCIjY1VKMdS6La2tgpTKXbmgc1mX7p0aUmHp0+fBtydaq0wMTGB7VZs3bp1yQ3VPXv2YPJ1cnJqb2/HCo8cOSJ7HTE1NU1LS1PeaX9s7Nu3DwAKCgpwbAj3AoqifD5f/fXutWvXcMKQSCTh4eEIgvj4+Pj5+enr67/11lvL/nSKuIKxl0ScDWt5FhcXt2/fzmAwFEahWCyuqqpS3pGWSqUVFRVDQ0NLepubm9uwYQOPx1PnVygryuTkZF5e3pUrVxQ0yufzL126VFdX9zhz1Uty+PBhWO74MrFeWCGEQmFlZWVFRYVQKFTHnriCsRNn6v/qmM/nMxiM+Ph4wi3KyM/Ph7V9SmaN8Oeff65bt+7tt99e7UBWEOIKPnjwIJPJXPIsqSpyc3MZDAbJFxo+n8/hcOLi4sg4+S+Ql5fHZDJTU1MJ/GJChyCo4MXFRS6Xu2wWQpni4mJLS0vCx9JFIpGjo6PyWTAKZdrb2wcGBlY7ihWHhqr9PyIuLCwgCIK9o1RWVsbExLS1tRHIYFdVVdXX18sOFmtEfn4+nU7HTjZSUACABgresWPH5ORkQkICgiAfffRRaWkp/nEICorHgLoKnpiYsLS0nJubAwAHB4fLly9v3rx5hWOjoFgeDeZgPp9fXl7u5OT08ssvGxoarmhYFBRqooGCKSjWINS/vkqh21AKptBtKAVT6DaUgil0G0rBFLoNpWAK3YZSMIVuQymYQrehFEyh2/wfhx4ToPjJZxEAAAAASUVORK5CYII=)\n"
      ],
      "metadata": {
        "id": "xi_KfL9lD4d6"
      }
    },
    {
      "cell_type": "code",
      "source": [
        "# El temps de vida d’una bombeta LED segueix una distribució exponencial amb una vida mitjana (MTBF) de 25.000 hores.\n",
        "# La probabilitat que una bombeta falli abans de 25.000 hores.\n",
        "# La probabilitat que funcioni sense fallar fins a les 30.000 hores.\n",
        "# El temps en què fallarà el 5% de les bombetes (vida P5)."
      ],
      "metadata": {
        "id": "uuldvA8LEWDx"
      },
      "execution_count": null,
      "outputs": []
    },
    {
      "cell_type": "code",
      "source": [
        "stats.expon.cdf(25000,loc = 1/25000,scale = 25000)"
      ],
      "metadata": {
        "colab": {
          "base_uri": "https://localhost:8080/"
        },
        "id": "yLW1hnOiKc7q",
        "outputId": "4c8b30ab-8bbb-4d6b-a3e0-2d0ea599209c"
      },
      "execution_count": 14,
      "outputs": [
        {
          "output_type": "execute_result",
          "data": {
            "text/plain": [
              "np.float64(0.6321205582399506)"
            ]
          },
          "metadata": {},
          "execution_count": 14
        }
      ]
    },
    {
      "cell_type": "code",
      "source": [
        "1 - stats.expon.cdf(30000,loc = 1/25000,scale = 25000)"
      ],
      "metadata": {
        "colab": {
          "base_uri": "https://localhost:8080/"
        },
        "id": "PJD68PTdLLfm",
        "outputId": "a0c8aa79-1c7a-4129-d1c7-8a9ccd4d4c90"
      },
      "execution_count": 12,
      "outputs": [
        {
          "output_type": "execute_result",
          "data": {
            "text/plain": [
              "np.float64(0.3011942123941128)"
            ]
          },
          "metadata": {},
          "execution_count": 12
        }
      ]
    },
    {
      "cell_type": "code",
      "source": [
        "stats.expon.ppf(.05,loc = 1/25000,scale = 25000)"
      ],
      "metadata": {
        "colab": {
          "base_uri": "https://localhost:8080/"
        },
        "id": "9LVzi-RDLcVD",
        "outputId": "04e31ffc-e573-4517-fd9d-00015e9793bc"
      },
      "execution_count": 13,
      "outputs": [
        {
          "output_type": "execute_result",
          "data": {
            "text/plain": [
              "np.float64(1282.3323996887634)"
            ]
          },
          "metadata": {},
          "execution_count": 13
        }
      ]
    },
    {
      "cell_type": "code",
      "source": [
        "pdf_df = pd.DataFrame({'success': range(0,5000, 100),\n",
        "'pdf':\n",
        "list(stats.expon.pdf(range(0, 5000, 100),\n",
        "loc = 1/25000,\n",
        "scale = 25000))})\n",
        "plt.figure(figsize=(10,4))\n",
        "sn.barplot(x = pdf_df.success, y = pdf_df.pdf)\n",
        "plt.xticks(rotation=90);\n",
        "plt.xlabel('Time to failure');"
      ],
      "metadata": {
        "colab": {
          "base_uri": "https://localhost:8080/",
          "height": 424
        },
        "id": "gdgOK0z_L8-0",
        "outputId": "b95d51a4-c569-4789-f501-1c8b2e51a4c8"
      },
      "execution_count": 15,
      "outputs": [
        {
          "output_type": "display_data",
          "data": {
            "text/plain": [
              "<Figure size 1000x400 with 1 Axes>"
            ],
            "image/png": "[encoded data removed]"
          },
          "metadata": {}
        }
      ]
    },
    {
      "cell_type": "markdown",
      "source": [
        "**Eix X**: 'success'\n",
        "\n",
        "Representa el temps (en hores) fins a la fallada.\n",
        "\n",
        "Va de 0 a 49.000 hores en salts de 1.000 hores.\n",
        "\n",
        "Argumentació: \"Quina probabilitat hi ha que una bombeta falli al voltant de les 1000 hores? De les 2000? De les 3000?\" etc.\n",
        "\n",
        "**Eix Y**: 'pdf'\n",
        "\n",
        "Representa la funció de densitat de probabilitat (PDF) de la distribució exponencial en cada valor de temps.\n",
        "\n",
        "No és una probabilitat directa, sinó una densitat: valors més alts indiquen que és més probable que una fallada ocorri en aquell interval de temps."
      ],
      "metadata": {
        "id": "0S3U9ruYOjTI"
      }
    },
    {
      "cell_type": "markdown",
      "source": [
        "# **Distribució Normal**\n",
        "\n",
        "---\n",
        "\n",
        "La distribució normal, també coneguda com a distribució gaussiana, és una de les contínues més populars distribució en l'àmbit de l'anàlisi sobretot pel seu ús en múltiples contextos. Distribució normal s'observa a través de moltes mesures naturals com l'edat, el sou, el volum de vendes, el pes al néixer,\n",
        "alçada, etc.\n"
      ],
      "metadata": {
        "id": "PHOAcLSYO1A9"
      }
    },
    {
      "cell_type": "code",
      "source": [
        "import pandas as pd\n",
        "import numpy as np\n",
        "import warnings\n",
        "beml_df = pd.read_csv('/content/BEML.csv')\n",
        "beml_df[0:5]"
      ],
      "metadata": {
        "colab": {
          "base_uri": "https://localhost:8080/",
          "height": 206
        },
        "id": "1eL1zSAMPJZj",
        "outputId": "df77cd76-62d3-4396-b287-c2780035e471"
      },
      "execution_count": 16,
      "outputs": [
        {
          "output_type": "execute_result",
          "data": {
            "text/plain": [
              "         Date    Open     High      Low    Last    Close  \\\n",
              "0  2010-01-04  1121.0  1151.00  1121.00  1134.0  1135.60   \n",
              "1  2010-01-05  1146.8  1149.00  1128.75  1135.0  1134.60   \n",
              "2  2010-01-06  1140.0  1164.25  1130.05  1137.0  1139.60   \n",
              "3  2010-01-07  1142.0  1159.40  1119.20  1141.0  1144.15   \n",
              "4  2010-01-08  1156.0  1172.00  1140.00  1141.2  1144.05   \n",
              "\n",
              "   Total Trade Quantity  Turnover (Lacs)  \n",
              "0              101651.0          1157.18  \n",
              "1               59504.0           676.47  \n",
              "2              128908.0          1482.84  \n",
              "3              117871.0          1352.98  \n",
              "4              170063.0          1971.42  "
            ],
            "text/html": [
              "\n",
              "  <div id=\"df-0dbdbbe6-81cd-4c13-a4dd-271d0be33678\" class=\"colab-df-container\">\n",
              "    <div>\n",
              "<style scoped>\n",
              "    .dataframe tbody tr th:only-of-type {\n",
              "        vertical-align: middle;\n",
              "    }\n",
              "\n",
              "    .dataframe tbody tr th {\n",
              "        vertical-align: top;\n",
              "    }\n",
              "\n",
              "    .dataframe thead th {\n",
              "        text-align: right;\n",
              "    }\n",
              "</style>\n",
              "<table border=\"1\" class=\"dataframe\">\n",
              "  <thead>\n",
              "    <tr style=\"text-align: right;\">\n",
              "      <th></th>\n",
              "      <th>Date</th>\n",
              "      <th>Open</th>\n",
              "      <th>High</th>\n",
              "      <th>Low</th>\n",
              "      <th>Last</th>\n",
              "      <th>Close</th>\n",
              "      <th>Total Trade Quantity</th>\n",
              "      <th>Turnover (Lacs)</th>\n",
              "    </tr>\n",
              "  </thead>\n",
              "  <tbody>\n",
              "    <tr>\n",
              "      <th>0</th>\n",
              "      <td>2010-01-04</td>\n",
              "      <td>1121.0</td>\n",
              "      <td>1151.00</td>\n",
              "      <td>1121.00</td>\n",
              "      <td>1134.0</td>\n",
              "      <td>1135.60</td>\n",
              "      <td>101651.0</td>\n",
              "      <td>1157.18</td>\n",
              "    </tr>\n",
              "    <tr>\n",
              "      <th>1</th>\n",
              "      <td>2010-01-05</td>\n",
              "      <td>1146.8</td>\n",
              "      <td>1149.00</td>\n",
              "      <td>1128.75</td>\n",
              "      <td>1135.0</td>\n",
              "      <td>1134.60</td>\n",
              "      <td>59504.0</td>\n",
              "      <td>676.47</td>\n",
              "    </tr>\n",
              "    <tr>\n",
              "      <th>2</th>\n",
              "      <td>2010-01-06</td>\n",
              "      <td>1140.0</td>\n",
              "      <td>1164.25</td>\n",
              "      <td>1130.05</td>\n",
              "      <td>1137.0</td>\n",
              "      <td>1139.60</td>\n",
              "      <td>128908.0</td>\n",
              "      <td>1482.84</td>\n",
              "    </tr>\n",
              "    <tr>\n",
              "      <th>3</th>\n",
              "      <td>2010-01-07</td>\n",
              "      <td>1142.0</td>\n",
              "      <td>1159.40</td>\n",
              "      <td>1119.20</td>\n",
              "      <td>1141.0</td>\n",
              "      <td>1144.15</td>\n",
              "      <td>117871.0</td>\n",
              "      <td>1352.98</td>\n",
              "    </tr>\n",
              "    <tr>\n",
              "      <th>4</th>\n",
              "      <td>2010-01-08</td>\n",
              "      <td>1156.0</td>\n",
              "      <td>1172.00</td>\n",
              "      <td>1140.00</td>\n",
              "      <td>1141.2</td>\n",
              "      <td>1144.05</td>\n",
              "      <td>170063.0</td>\n",
              "      <td>1971.42</td>\n",
              "    </tr>\n",
              "  </tbody>\n",
              "</table>\n",
              "</div>\n",
              "    <div class=\"colab-df-buttons\">\n",
              "\n",
              "  <div class=\"colab-df-container\">\n",
              "    <button class=\"colab-df-convert\" onclick=\"convertToInteractive('df-0dbdbbe6-81cd-4c13-a4dd-271d0be33678')\"\n",
              "            title=\"Convert this dataframe to an interactive table.\"\n",
              "            style=\"display:none;\">\n",
              "\n",
              "  <svg xmlns=\"http://www.w3.org/2000/svg\" height=\"24px\" viewBox=\"0 -960 960 960\">\n",
              "    <path d=\"M120-120v-720h720v720H120Zm60-500h600v-160H180v160Zm220 220h160v-160H400v160Zm0 220h160v-160H400v160ZM180-400h160v-160H180v160Zm440 0h160v-160H620v160ZM180-180h160v-160H180v160Zm440 0h160v-160H620v160Z\"/>\n",
              "  </svg>\n",
              "    </button>\n",
              "\n",
              "  <style>\n",
              "    .colab-df-container {\n",
              "      display:flex;\n",
              "      gap: 12px;\n",
              "    }\n",
              "\n",
              "    .colab-df-convert {\n",
              "      background-color: #E8F0FE;\n",
              "      border: none;\n",
              "      border-radius: 50%;\n",
              "      cursor: pointer;\n",
              "      display: none;\n",
              "      fill: #1967D2;\n",
              "      height: 32px;\n",
              "      padding: 0 0 0 0;\n",
              "      width: 32px;\n",
              "    }\n",
              "\n",
              "    .colab-df-convert:hover {\n",
              "      background-color: #E2EBFA;\n",
              "      box-shadow: 0px 1px 2px rgba(60, 64, 67, 0.3), 0px 1px 3px 1px rgba(60, 64, 67, 0.15);\n",
              "      fill: #174EA6;\n",
              "    }\n",
              "\n",
              "    .colab-df-buttons div {\n",
              "      margin-bottom: 4px;\n",
              "    }\n",
              "\n",
              "    [theme=dark] .colab-df-convert {\n",
              "      background-color: #3B4455;\n",
              "      fill: #D2E3FC;\n",
              "    }\n",
              "\n",
              "    [theme=dark] .colab-df-convert:hover {\n",
              "      background-color: #434B5C;\n",
              "      box-shadow: 0px 1px 3px 1px rgba(0, 0, 0, 0.15);\n",
              "      filter: drop-shadow(0px 1px 2px rgba(0, 0, 0, 0.3));\n",
              "      fill: #FFFFFF;\n",
              "    }\n",
              "  </style>\n",
              "\n",
              "    <script>\n",
              "      const buttonEl =\n",
              "        document.querySelector('#df-0dbdbbe6-81cd-4c13-a4dd-271d0be33678 button.colab-df-convert');\n",
              "      buttonEl.style.display =\n",
              "        google.colab.kernel.accessAllowed ? 'block' : 'none';\n",
              "\n",
              "      async function convertToInteractive(key) {\n",
              "        const element = document.querySelector('#df-0dbdbbe6-81cd-4c13-a4dd-271d0be33678');\n",
              "        const dataTable =\n",
              "          await google.colab.kernel.invokeFunction('convertToInteractive',\n",
              "                                                    [key], {});\n",
              "        if (!dataTable) return;\n",
              "\n",
              "        const docLinkHtml = 'Like what you see? Visit the ' +\n",
              "          '<a target=\"_blank\" href=https://colab.research.google.com/notebooks/data_table.ipynb>data table notebook</a>'\n",
              "          + ' to learn more about interactive tables.';\n",
              "        element.innerHTML = '';\n",
              "        dataTable['output_type'] = 'display_data';\n",
              "        await google.colab.output.renderOutput(dataTable, element);\n",
              "        const docLink = document.createElement('div');\n",
              "        docLink.innerHTML = docLinkHtml;\n",
              "        element.appendChild(docLink);\n",
              "      }\n",
              "    </script>\n",
              "  </div>\n",
              "\n",
              "\n",
              "<div id=\"df-453196d6-cf6f-4d45-a930-21e17f165bfc\">\n",
              "  <button class=\"colab-df-quickchart\" onclick=\"quickchart('df-453196d6-cf6f-4d45-a930-21e17f165bfc')\"\n",
              "            title=\"Suggest charts\"\n",
              "            style=\"display:none;\">\n",
              "\n",
              "<svg xmlns=\"http://www.w3.org/2000/svg\" height=\"24px\"viewBox=\"0 0 24 24\"\n",
              "     width=\"24px\">\n",
              "    <g>\n",
              "        <path d=\"M19 3H5c-1.1 0-2 .9-2 2v14c0 1.1.9 2 2 2h14c1.1 0 2-.9 2-2V5c0-1.1-.9-2-2-2zM9 17H7v-7h2v7zm4 0h-2V7h2v10zm4 0h-2v-4h2v4z\"/>\n",
              "    </g>\n",
              "</svg>\n",
              "  </button>\n",
              "\n",
              "<style>\n",
              "  .colab-df-quickchart {\n",
              "      --bg-color: #E8F0FE;\n",
              "      --fill-color: #1967D2;\n",
              "      --hover-bg-color: #E2EBFA;\n",
              "      --hover-fill-color: #174EA6;\n",
              "      --disabled-fill-color: #AAA;\n",
              "      --disabled-bg-color: #DDD;\n",
              "  }\n",
              "\n",
              "  [theme=dark] .colab-df-quickchart {\n",
              "      --bg-color: #3B4455;\n",
              "      --fill-color: #D2E3FC;\n",
              "      --hover-bg-color: #434B5C;\n",
              "      --hover-fill-color: #FFFFFF;\n",
              "      --disabled-bg-color: #3B4455;\n",
              "      --disabled-fill-color: #666;\n",
              "  }\n",
              "\n",
              "  .colab-df-quickchart {\n",
              "    background-color: var(--bg-color);\n",
              "    border: none;\n",
              "    border-radius: 50%;\n",
              "    cursor: pointer;\n",
              "    display: none;\n",
              "    fill: var(--fill-color);\n",
              "    height: 32px;\n",
              "    padding: 0;\n",
              "    width: 32px;\n",
              "  }\n",
              "\n",
              "  .colab-df-quickchart:hover {\n",
              "    background-color: var(--hover-bg-color);\n",
              "    box-shadow: 0 1px 2px rgba(60, 64, 67, 0.3), 0 1px 3px 1px rgba(60, 64, 67, 0.15);\n",
              "    fill: var(--button-hover-fill-color);\n",
              "  }\n",
              "\n",
              "  .colab-df-quickchart-complete:disabled,\n",
              "  .colab-df-quickchart-complete:disabled:hover {\n",
              "    background-color: var(--disabled-bg-color);\n",
              "    fill: var(--disabled-fill-color);\n",
              "    box-shadow: none;\n",
              "  }\n",
              "\n",
              "  .colab-df-spinner {\n",
              "    border: 2px solid var(--fill-color);\n",
              "    border-color: transparent;\n",
              "    border-bottom-color: var(--fill-color);\n",
              "    animation:\n",
              "      spin 1s steps(1) infinite;\n",
              "  }\n",
              "\n",
              "  @keyframes spin {\n",
              "    0% {\n",
              "      border-color: transparent;\n",
              "      border-bottom-color: var(--fill-color);\n",
              "      border-left-color: var(--fill-color);\n",
              "    }\n",
              "    20% {\n",
              "      border-color: transparent;\n",
              "      border-left-color: var(--fill-color);\n",
              "      border-top-color: var(--fill-color);\n",
              "    }\n",
              "    30% {\n",
              "      border-color: transparent;\n",
              "      border-left-color: var(--fill-color);\n",
              "      border-top-color: var(--fill-color);\n",
              "      border-right-color: var(--fill-color);\n",
              "    }\n",
              "    40% {\n",
              "      border-color: transparent;\n",
              "      border-right-color: var(--fill-color);\n",
              "      border-top-color: var(--fill-color);\n",
              "    }\n",
              "    60% {\n",
              "      border-color: transparent;\n",
              "      border-right-color: var(--fill-color);\n",
              "    }\n",
              "    80% {\n",
              "      border-color: transparent;\n",
              "      border-right-color: var(--fill-color);\n",
              "      border-bottom-color: var(--fill-color);\n",
              "    }\n",
              "    90% {\n",
              "      border-color: transparent;\n",
              "      border-bottom-color: var(--fill-color);\n",
              "    }\n",
              "  }\n",
              "</style>\n",
              "\n",
              "  <script>\n",
              "    async function quickchart(key) {\n",
              "      const quickchartButtonEl =\n",
              "        document.querySelector('#' + key + ' button');\n",
              "      quickchartButtonEl.disabled = true;  // To prevent multiple clicks.\n",
              "      quickchartButtonEl.classList.add('colab-df-spinner');\n",
              "      try {\n",
              "        const charts = await google.colab.kernel.invokeFunction(\n",
              "            'suggestCharts', [key], {});\n",
              "      } catch (error) {\n",
              "        console.error('Error during call to suggestCharts:', error);\n",
              "      }\n",
              "      quickchartButtonEl.classList.remove('colab-df-spinner');\n",
              "      quickchartButtonEl.classList.add('colab-df-quickchart-complete');\n",
              "    }\n",
              "    (() => {\n",
              "      let quickchartButtonEl =\n",
              "        document.querySelector('#df-453196d6-cf6f-4d45-a930-21e17f165bfc button');\n",
              "      quickchartButtonEl.style.display =\n",
              "        google.colab.kernel.accessAllowed ? 'block' : 'none';\n",
              "    })();\n",
              "  </script>\n",
              "</div>\n",
              "\n",
              "    </div>\n",
              "  </div>\n"
            ],
            "application/vnd.google.colaboratory.intrinsic+json": {
              "type": "dataframe",
              "summary": "{\n  \"name\": \"beml_df[0:5]\",\n  \"rows\": 5,\n  \"fields\": [\n    {\n      \"column\": \"Date\",\n      \"properties\": {\n        \"dtype\": \"object\",\n        \"num_unique_values\": 5,\n        \"samples\": [\n          \"2010-01-05\",\n          \"2010-01-08\",\n          \"2010-01-06\"\n        ],\n        \"semantic_type\": \"\",\n        \"description\": \"\"\n      }\n    },\n    {\n      \"column\": \"Open\",\n      \"properties\": {\n        \"dtype\": \"number\",\n        \"std\": 12.850214006000051,\n        \"min\": 1121.0,\n        \"max\": 1156.0,\n        \"num_unique_values\": 5,\n        \"samples\": [\n          1146.8,\n          1156.0,\n          1140.0\n        ],\n        \"semantic_type\": \"\",\n        \"description\": \"\"\n      }\n    },\n    {\n      \"column\": \"High\",\n      \"properties\": {\n        \"dtype\": \"number\",\n        \"std\": 9.49523564741813,\n        \"min\": 1149.0,\n        \"max\": 1172.0,\n        \"num_unique_values\": 5,\n        \"samples\": [\n          1149.0,\n          1172.0,\n          1164.25\n        ],\n        \"semantic_type\": \"\",\n        \"description\": \"\"\n      }\n    },\n    {\n      \"column\": \"Low\",\n      \"properties\": {\n        \"dtype\": \"number\",\n        \"std\": 8.291637353382006,\n        \"min\": 1119.2,\n        \"max\": 1140.0,\n        \"num_unique_values\": 5,\n        \"samples\": [\n          1128.75,\n          1140.0,\n          1130.05\n        ],\n        \"semantic_type\": \"\",\n        \"description\": \"\"\n      }\n    },\n    {\n      \"column\": \"Last\",\n      \"properties\": {\n        \"dtype\": \"number\",\n        \"std\": 3.338862081608056,\n        \"min\": 1134.0,\n        \"max\": 1141.2,\n        \"num_unique_values\": 5,\n        \"samples\": [\n          1135.0,\n          1141.2,\n          1137.0\n        ],\n        \"semantic_type\": \"\",\n        \"description\": \"\"\n      }\n    },\n    {\n      \"column\": \"Close\",\n      \"properties\": {\n        \"dtype\": \"number\",\n        \"std\": 4.514005981387322,\n        \"min\": 1134.6,\n        \"max\": 1144.15,\n        \"num_unique_values\": 5,\n        \"samples\": [\n          1134.6,\n          1144.05,\n          1139.6\n        ],\n        \"semantic_type\": \"\",\n        \"description\": \"\"\n      }\n    },\n    {\n      \"column\": \"Total Trade Quantity\",\n      \"properties\": {\n        \"dtype\": \"number\",\n        \"std\": 40279.69243055364,\n        \"min\": 59504.0,\n        \"max\": 170063.0,\n        \"num_unique_values\": 5,\n        \"samples\": [\n          59504.0,\n          170063.0,\n          128908.0\n        ],\n        \"semantic_type\": \"\",\n        \"description\": \"\"\n      }\n    },\n    {\n      \"column\": \"Turnover (Lacs)\",\n      \"properties\": {\n        \"dtype\": \"number\",\n        \"std\": 472.2974108758167,\n        \"min\": 676.47,\n        \"max\": 1971.42,\n        \"num_unique_values\": 5,\n        \"samples\": [\n          676.47,\n          1971.42,\n          1482.84\n        ],\n        \"semantic_type\": \"\",\n        \"description\": \"\"\n      }\n    }\n  ]\n}"
            }
          },
          "metadata": {},
          "execution_count": 16
        }
      ]
    },
    {
      "cell_type": "code",
      "source": [
        "glaxo_df = pd.read_csv('/content/GLAXO.csv')\n",
        "glaxo_df[0:5]"
      ],
      "metadata": {
        "colab": {
          "base_uri": "https://localhost:8080/",
          "height": 206
        },
        "id": "XSBYfcy3RJB7",
        "outputId": "b27ab2e6-2871-4875-85e5-bd65c9303c71"
      },
      "execution_count": 20,
      "outputs": [
        {
          "output_type": "execute_result",
          "data": {
            "text/plain": [
              "         Date     Open     High      Low    Last    Close  \\\n",
              "0  2010-01-04  1613.00  1629.10  1602.00  1629.0  1625.65   \n",
              "1  2010-01-05  1639.95  1639.95  1611.05  1620.0  1616.80   \n",
              "2  2010-01-06  1618.00  1644.00  1617.00  1639.0  1638.50   \n",
              "3  2010-01-07  1645.00  1654.00  1636.00  1648.0  1648.70   \n",
              "4  2010-01-08  1650.00  1650.00  1626.55  1640.0  1639.80   \n",
              "\n",
              "   Total Trade Quantity  Turnover (Lacs)  \n",
              "0                9365.0           151.74  \n",
              "1               38148.0           622.58  \n",
              "2               36519.0           595.09  \n",
              "3               12809.0           211.00  \n",
              "4               28035.0           459.11  "
            ],
            "text/html": [
              "\n",
              "  <div id=\"df-7c433284-81c6-4bde-9cb7-c7f66d376b4e\" class=\"colab-df-container\">\n",
              "    <div>\n",
              "<style scoped>\n",
              "    .dataframe tbody tr th:only-of-type {\n",
              "        vertical-align: middle;\n",
              "    }\n",
              "\n",
              "    .dataframe tbody tr th {\n",
              "        vertical-align: top;\n",
              "    }\n",
              "\n",
              "    .dataframe thead th {\n",
              "        text-align: right;\n",
              "    }\n",
              "</style>\n",
              "<table border=\"1\" class=\"dataframe\">\n",
              "  <thead>\n",
              "    <tr style=\"text-align: right;\">\n",
              "      <th></th>\n",
              "      <th>Date</th>\n",
              "      <th>Open</th>\n",
              "      <th>High</th>\n",
              "      <th>Low</th>\n",
              "      <th>Last</th>\n",
              "      <th>Close</th>\n",
              "      <th>Total Trade Quantity</th>\n",
              "      <th>Turnover (Lacs)</th>\n",
              "    </tr>\n",
              "  </thead>\n",
              "  <tbody>\n",
              "    <tr>\n",
              "      <th>0</th>\n",
              "      <td>2010-01-04</td>\n",
              "      <td>1613.00</td>\n",
              "      <td>1629.10</td>\n",
              "      <td>1602.00</td>\n",
              "      <td>1629.0</td>\n",
              "      <td>1625.65</td>\n",
              "      <td>9365.0</td>\n",
              "      <td>151.74</td>\n",
              "    </tr>\n",
              "    <tr>\n",
              "      <th>1</th>\n",
              "      <td>2010-01-05</td>\n",
              "      <td>1639.95</td>\n",
              "      <td>1639.95</td>\n",
              "      <td>1611.05</td>\n",
              "      <td>1620.0</td>\n",
              "      <td>1616.80</td>\n",
              "      <td>38148.0</td>\n",
              "      <td>622.58</td>\n",
              "    </tr>\n",
              "    <tr>\n",
              "      <th>2</th>\n",
              "      <td>2010-01-06</td>\n",
              "      <td>1618.00</td>\n",
              "      <td>1644.00</td>\n",
              "      <td>1617.00</td>\n",
              "      <td>1639.0</td>\n",
              "      <td>1638.50</td>\n",
              "      <td>36519.0</td>\n",
              "      <td>595.09</td>\n",
              "    </tr>\n",
              "    <tr>\n",
              "      <th>3</th>\n",
              "      <td>2010-01-07</td>\n",
              "      <td>1645.00</td>\n",
              "      <td>1654.00</td>\n",
              "      <td>1636.00</td>\n",
              "      <td>1648.0</td>\n",
              "      <td>1648.70</td>\n",
              "      <td>12809.0</td>\n",
              "      <td>211.00</td>\n",
              "    </tr>\n",
              "    <tr>\n",
              "      <th>4</th>\n",
              "      <td>2010-01-08</td>\n",
              "      <td>1650.00</td>\n",
              "      <td>1650.00</td>\n",
              "      <td>1626.55</td>\n",
              "      <td>1640.0</td>\n",
              "      <td>1639.80</td>\n",
              "      <td>28035.0</td>\n",
              "      <td>459.11</td>\n",
              "    </tr>\n",
              "  </tbody>\n",
              "</table>\n",
              "</div>\n",
              "    <div class=\"colab-df-buttons\">\n",
              "\n",
              "  <div class=\"colab-df-container\">\n",
              "    <button class=\"colab-df-convert\" onclick=\"convertToInteractive('df-7c433284-81c6-4bde-9cb7-c7f66d376b4e')\"\n",
              "            title=\"Convert this dataframe to an interactive table.\"\n",
              "            style=\"display:none;\">\n",
              "\n",
              "  <svg xmlns=\"http://www.w3.org/2000/svg\" height=\"24px\" viewBox=\"0 -960 960 960\">\n",
              "    <path d=\"M120-120v-720h720v720H120Zm60-500h600v-160H180v160Zm220 220h160v-160H400v160Zm0 220h160v-160H400v160ZM180-400h160v-160H180v160Zm440 0h160v-160H620v160ZM180-180h160v-160H180v160Zm440 0h160v-160H620v160Z\"/>\n",
              "  </svg>\n",
              "    </button>\n",
              "\n",
              "  <style>\n",
              "    .colab-df-container {\n",
              "      display:flex;\n",
              "      gap: 12px;\n",
              "    }\n",
              "\n",
              "    .colab-df-convert {\n",
              "      background-color: #E8F0FE;\n",
              "      border: none;\n",
              "      border-radius: 50%;\n",
              "      cursor: pointer;\n",
              "      display: none;\n",
              "      fill: #1967D2;\n",
              "      height: 32px;\n",
              "      padding: 0 0 0 0;\n",
              "      width: 32px;\n",
              "    }\n",
              "\n",
              "    .colab-df-convert:hover {\n",
              "      background-color: #E2EBFA;\n",
              "      box-shadow: 0px 1px 2px rgba(60, 64, 67, 0.3), 0px 1px 3px 1px rgba(60, 64, 67, 0.15);\n",
              "      fill: #174EA6;\n",
              "    }\n",
              "\n",
              "    .colab-df-buttons div {\n",
              "      margin-bottom: 4px;\n",
              "    }\n",
              "\n",
              "    [theme=dark] .colab-df-convert {\n",
              "      background-color: #3B4455;\n",
              "      fill: #D2E3FC;\n",
              "    }\n",
              "\n",
              "    [theme=dark] .colab-df-convert:hover {\n",
              "      background-color: #434B5C;\n",
              "      box-shadow: 0px 1px 3px 1px rgba(0, 0, 0, 0.15);\n",
              "      filter: drop-shadow(0px 1px 2px rgba(0, 0, 0, 0.3));\n",
              "      fill: #FFFFFF;\n",
              "    }\n",
              "  </style>\n",
              "\n",
              "    <script>\n",
              "      const buttonEl =\n",
              "        document.querySelector('#df-7c433284-81c6-4bde-9cb7-c7f66d376b4e button.colab-df-convert');\n",
              "      buttonEl.style.display =\n",
              "        google.colab.kernel.accessAllowed ? 'block' : 'none';\n",
              "\n",
              "      async function convertToInteractive(key) {\n",
              "        const element = document.querySelector('#df-7c433284-81c6-4bde-9cb7-c7f66d376b4e');\n",
              "        const dataTable =\n",
              "          await google.colab.kernel.invokeFunction('convertToInteractive',\n",
              "                                                    [key], {});\n",
              "        if (!dataTable) return;\n",
              "\n",
              "        const docLinkHtml = 'Like what you see? Visit the ' +\n",
              "          '<a target=\"_blank\" href=https://colab.research.google.com/notebooks/data_table.ipynb>data table notebook</a>'\n",
              "          + ' to learn more about interactive tables.';\n",
              "        element.innerHTML = '';\n",
              "        dataTable['output_type'] = 'display_data';\n",
              "        await google.colab.output.renderOutput(dataTable, element);\n",
              "        const docLink = document.createElement('div');\n",
              "        docLink.innerHTML = docLinkHtml;\n",
              "        element.appendChild(docLink);\n",
              "      }\n",
              "    </script>\n",
              "  </div>\n",
              "\n",
              "\n",
              "<div id=\"df-2d1676b3-eb8c-4033-b4b1-b59405f87e3c\">\n",
              "  <button class=\"colab-df-quickchart\" onclick=\"quickchart('df-2d1676b3-eb8c-4033-b4b1-b59405f87e3c')\"\n",
              "            title=\"Suggest charts\"\n",
              "            style=\"display:none;\">\n",
              "\n",
              "<svg xmlns=\"http://www.w3.org/2000/svg\" height=\"24px\"viewBox=\"0 0 24 24\"\n",
              "     width=\"24px\">\n",
              "    <g>\n",
              "        <path d=\"M19 3H5c-1.1 0-2 .9-2 2v14c0 1.1.9 2 2 2h14c1.1 0 2-.9 2-2V5c0-1.1-.9-2-2-2zM9 17H7v-7h2v7zm4 0h-2V7h2v10zm4 0h-2v-4h2v4z\"/>\n",
              "    </g>\n",
              "</svg>\n",
              "  </button>\n",
              "\n",
              "<style>\n",
              "  .colab-df-quickchart {\n",
              "      --bg-color: #E8F0FE;\n",
              "      --fill-color: #1967D2;\n",
              "      --hover-bg-color: #E2EBFA;\n",
              "      --hover-fill-color: #174EA6;\n",
              "      --disabled-fill-color: #AAA;\n",
              "      --disabled-bg-color: #DDD;\n",
              "  }\n",
              "\n",
              "  [theme=dark] .colab-df-quickchart {\n",
              "      --bg-color: #3B4455;\n",
              "      --fill-color: #D2E3FC;\n",
              "      --hover-bg-color: #434B5C;\n",
              "      --hover-fill-color: #FFFFFF;\n",
              "      --disabled-bg-color: #3B4455;\n",
              "      --disabled-fill-color: #666;\n",
              "  }\n",
              "\n",
              "  .colab-df-quickchart {\n",
              "    background-color: var(--bg-color);\n",
              "    border: none;\n",
              "    border-radius: 50%;\n",
              "    cursor: pointer;\n",
              "    display: none;\n",
              "    fill: var(--fill-color);\n",
              "    height: 32px;\n",
              "    padding: 0;\n",
              "    width: 32px;\n",
              "  }\n",
              "\n",
              "  .colab-df-quickchart:hover {\n",
              "    background-color: var(--hover-bg-color);\n",
              "    box-shadow: 0 1px 2px rgba(60, 64, 67, 0.3), 0 1px 3px 1px rgba(60, 64, 67, 0.15);\n",
              "    fill: var(--button-hover-fill-color);\n",
              "  }\n",
              "\n",
              "  .colab-df-quickchart-complete:disabled,\n",
              "  .colab-df-quickchart-complete:disabled:hover {\n",
              "    background-color: var(--disabled-bg-color);\n",
              "    fill: var(--disabled-fill-color);\n",
              "    box-shadow: none;\n",
              "  }\n",
              "\n",
              "  .colab-df-spinner {\n",
              "    border: 2px solid var(--fill-color);\n",
              "    border-color: transparent;\n",
              "    border-bottom-color: var(--fill-color);\n",
              "    animation:\n",
              "      spin 1s steps(1) infinite;\n",
              "  }\n",
              "\n",
              "  @keyframes spin {\n",
              "    0% {\n",
              "      border-color: transparent;\n",
              "      border-bottom-color: var(--fill-color);\n",
              "      border-left-color: var(--fill-color);\n",
              "    }\n",
              "    20% {\n",
              "      border-color: transparent;\n",
              "      border-left-color: var(--fill-color);\n",
              "      border-top-color: var(--fill-color);\n",
              "    }\n",
              "    30% {\n",
              "      border-color: transparent;\n",
              "      border-left-color: var(--fill-color);\n",
              "      border-top-color: var(--fill-color);\n",
              "      border-right-color: var(--fill-color);\n",
              "    }\n",
              "    40% {\n",
              "      border-color: transparent;\n",
              "      border-right-color: var(--fill-color);\n",
              "      border-top-color: var(--fill-color);\n",
              "    }\n",
              "    60% {\n",
              "      border-color: transparent;\n",
              "      border-right-color: var(--fill-color);\n",
              "    }\n",
              "    80% {\n",
              "      border-color: transparent;\n",
              "      border-right-color: var(--fill-color);\n",
              "      border-bottom-color: var(--fill-color);\n",
              "    }\n",
              "    90% {\n",
              "      border-color: transparent;\n",
              "      border-bottom-color: var(--fill-color);\n",
              "    }\n",
              "  }\n",
              "</style>\n",
              "\n",
              "  <script>\n",
              "    async function quickchart(key) {\n",
              "      const quickchartButtonEl =\n",
              "        document.querySelector('#' + key + ' button');\n",
              "      quickchartButtonEl.disabled = true;  // To prevent multiple clicks.\n",
              "      quickchartButtonEl.classList.add('colab-df-spinner');\n",
              "      try {\n",
              "        const charts = await google.colab.kernel.invokeFunction(\n",
              "            'suggestCharts', [key], {});\n",
              "      } catch (error) {\n",
              "        console.error('Error during call to suggestCharts:', error);\n",
              "      }\n",
              "      quickchartButtonEl.classList.remove('colab-df-spinner');\n",
              "      quickchartButtonEl.classList.add('colab-df-quickchart-complete');\n",
              "    }\n",
              "    (() => {\n",
              "      let quickchartButtonEl =\n",
              "        document.querySelector('#df-2d1676b3-eb8c-4033-b4b1-b59405f87e3c button');\n",
              "      quickchartButtonEl.style.display =\n",
              "        google.colab.kernel.accessAllowed ? 'block' : 'none';\n",
              "    })();\n",
              "  </script>\n",
              "</div>\n",
              "\n",
              "    </div>\n",
              "  </div>\n"
            ],
            "application/vnd.google.colaboratory.intrinsic+json": {
              "type": "dataframe",
              "summary": "{\n  \"name\": \"glaxo_df[0:5]\",\n  \"rows\": 5,\n  \"fields\": [\n    {\n      \"column\": \"Date\",\n      \"properties\": {\n        \"dtype\": \"object\",\n        \"num_unique_values\": 5,\n        \"samples\": [\n          \"2010-01-05\",\n          \"2010-01-08\",\n          \"2010-01-06\"\n        ],\n        \"semantic_type\": \"\",\n        \"description\": \"\"\n      }\n    },\n    {\n      \"column\": \"Open\",\n      \"properties\": {\n        \"dtype\": \"number\",\n        \"std\": 16.629206234814703,\n        \"min\": 1613.0,\n        \"max\": 1650.0,\n        \"num_unique_values\": 5,\n        \"samples\": [\n          1639.95,\n          1650.0,\n          1618.0\n        ],\n        \"semantic_type\": \"\",\n        \"description\": \"\"\n      }\n    },\n    {\n      \"column\": \"High\",\n      \"properties\": {\n        \"dtype\": \"number\",\n        \"std\": 9.652357225051327,\n        \"min\": 1629.1,\n        \"max\": 1654.0,\n        \"num_unique_values\": 5,\n        \"samples\": [\n          1639.95,\n          1650.0,\n          1644.0\n        ],\n        \"semantic_type\": \"\",\n        \"description\": \"\"\n      }\n    },\n    {\n      \"column\": \"Low\",\n      \"properties\": {\n        \"dtype\": \"number\",\n        \"std\": 13.23870273100805,\n        \"min\": 1602.0,\n        \"max\": 1636.0,\n        \"num_unique_values\": 5,\n        \"samples\": [\n          1611.05,\n          1626.55,\n          1617.0\n        ],\n        \"semantic_type\": \"\",\n        \"description\": \"\"\n      }\n    },\n    {\n      \"column\": \"Last\",\n      \"properties\": {\n        \"dtype\": \"number\",\n        \"std\": 10.848963084092414,\n        \"min\": 1620.0,\n        \"max\": 1648.0,\n        \"num_unique_values\": 5,\n        \"samples\": [\n          1620.0,\n          1640.0,\n          1639.0\n        ],\n        \"semantic_type\": \"\",\n        \"description\": \"\"\n      }\n    },\n    {\n      \"column\": \"Close\",\n      \"properties\": {\n        \"dtype\": \"number\",\n        \"std\": 12.604384157903162,\n        \"min\": 1616.8,\n        \"max\": 1648.7,\n        \"num_unique_values\": 5,\n        \"samples\": [\n          1616.8,\n          1639.8,\n          1638.5\n        ],\n        \"semantic_type\": \"\",\n        \"description\": \"\"\n      }\n    },\n    {\n      \"column\": \"Total Trade Quantity\",\n      \"properties\": {\n        \"dtype\": \"number\",\n        \"std\": 13302.62305712674,\n        \"min\": 9365.0,\n        \"max\": 38148.0,\n        \"num_unique_values\": 5,\n        \"samples\": [\n          38148.0,\n          28035.0,\n          36519.0\n        ],\n        \"semantic_type\": \"\",\n        \"description\": \"\"\n      }\n    },\n    {\n      \"column\": \"Turnover (Lacs)\",\n      \"properties\": {\n        \"dtype\": \"number\",\n        \"std\": 216.874167502725,\n        \"min\": 151.74,\n        \"max\": 622.58,\n        \"num_unique_values\": 5,\n        \"samples\": [\n          622.58,\n          459.11,\n          595.09\n        ],\n        \"semantic_type\": \"\",\n        \"description\": \"\"\n      }\n    }\n  ]\n}"
            }
          },
          "metadata": {},
          "execution_count": 20
        }
      ]
    },
    {
      "cell_type": "code",
      "source": [
        "beml_df = beml_df[['Date', 'Close']]\n",
        "glaxo_df = glaxo_df[['Date', 'Close']]\n"
      ],
      "metadata": {
        "id": "6yiWwj52SkOt"
      },
      "execution_count": 23,
      "outputs": []
    },
    {
      "cell_type": "code",
      "source": [
        "glaxo_df = glaxo_df.set_index(pd.DatetimeIndex(glaxo_df['Date']))\n",
        "beml_df = beml_df.set_index(pd.DatetimeIndex(beml_df['Date']))\n",
        "glaxo_df[0:5]\n",
        "#Un DatetimeIndex conté informació completa de dates: any, mes, dia, hora, minut, segon..."
      ],
      "metadata": {
        "colab": {
          "base_uri": "https://localhost:8080/",
          "height": 238
        },
        "id": "IH9VPnKHTgRP",
        "outputId": "68534767-0148-4336-a696-8700c569ef74"
      },
      "execution_count": 24,
      "outputs": [
        {
          "output_type": "execute_result",
          "data": {
            "text/plain": [
              "                  Date    Close\n",
              "Date                           \n",
              "2010-01-04  2010-01-04  1625.65\n",
              "2010-01-05  2010-01-05  1616.80\n",
              "2010-01-06  2010-01-06  1638.50\n",
              "2010-01-07  2010-01-07  1648.70\n",
              "2010-01-08  2010-01-08  1639.80"
            ],
            "text/html": [
              "\n",
              "  <div id=\"df-496d703d-0949-440a-83a3-1c8493f4ae85\" class=\"colab-df-container\">\n",
              "    <div>\n",
              "<style scoped>\n",
              "    .dataframe tbody tr th:only-of-type {\n",
              "        vertical-align: middle;\n",
              "    }\n",
              "\n",
              "    .dataframe tbody tr th {\n",
              "        vertical-align: top;\n",
              "    }\n",
              "\n",
              "    .dataframe thead th {\n",
              "        text-align: right;\n",
              "    }\n",
              "</style>\n",
              "<table border=\"1\" class=\"dataframe\">\n",
              "  <thead>\n",
              "    <tr style=\"text-align: right;\">\n",
              "      <th></th>\n",
              "      <th>Date</th>\n",
              "      <th>Close</th>\n",
              "    </tr>\n",
              "    <tr>\n",
              "      <th>Date</th>\n",
              "      <th></th>\n",
              "      <th></th>\n",
              "    </tr>\n",
              "  </thead>\n",
              "  <tbody>\n",
              "    <tr>\n",
              "      <th>2010-01-04</th>\n",
              "      <td>2010-01-04</td>\n",
              "      <td>1625.65</td>\n",
              "    </tr>\n",
              "    <tr>\n",
              "      <th>2010-01-05</th>\n",
              "      <td>2010-01-05</td>\n",
              "      <td>1616.80</td>\n",
              "    </tr>\n",
              "    <tr>\n",
              "      <th>2010-01-06</th>\n",
              "      <td>2010-01-06</td>\n",
              "      <td>1638.50</td>\n",
              "    </tr>\n",
              "    <tr>\n",
              "      <th>2010-01-07</th>\n",
              "      <td>2010-01-07</td>\n",
              "      <td>1648.70</td>\n",
              "    </tr>\n",
              "    <tr>\n",
              "      <th>2010-01-08</th>\n",
              "      <td>2010-01-08</td>\n",
              "      <td>1639.80</td>\n",
              "    </tr>\n",
              "  </tbody>\n",
              "</table>\n",
              "</div>\n",
              "    <div class=\"colab-df-buttons\">\n",
              "\n",
              "  <div class=\"colab-df-container\">\n",
              "    <button class=\"colab-df-convert\" onclick=\"convertToInteractive('df-496d703d-0949-440a-83a3-1c8493f4ae85')\"\n",
              "            title=\"Convert this dataframe to an interactive table.\"\n",
              "            style=\"display:none;\">\n",
              "\n",
              "  <svg xmlns=\"http://www.w3.org/2000/svg\" height=\"24px\" viewBox=\"0 -960 960 960\">\n",
              "    <path d=\"M120-120v-720h720v720H120Zm60-500h600v-160H180v160Zm220 220h160v-160H400v160Zm0 220h160v-160H400v160ZM180-400h160v-160H180v160Zm440 0h160v-160H620v160ZM180-180h160v-160H180v160Zm440 0h160v-160H620v160Z\"/>\n",
              "  </svg>\n",
              "    </button>\n",
              "\n",
              "  <style>\n",
              "    .colab-df-container {\n",
              "      display:flex;\n",
              "      gap: 12px;\n",
              "    }\n",
              "\n",
              "    .colab-df-convert {\n",
              "      background-color: #E8F0FE;\n",
              "      border: none;\n",
              "      border-radius: 50%;\n",
              "      cursor: pointer;\n",
              "      display: none;\n",
              "      fill: #1967D2;\n",
              "      height: 32px;\n",
              "      padding: 0 0 0 0;\n",
              "      width: 32px;\n",
              "    }\n",
              "\n",
              "    .colab-df-convert:hover {\n",
              "      background-color: #E2EBFA;\n",
              "      box-shadow: 0px 1px 2px rgba(60, 64, 67, 0.3), 0px 1px 3px 1px rgba(60, 64, 67, 0.15);\n",
              "      fill: #174EA6;\n",
              "    }\n",
              "\n",
              "    .colab-df-buttons div {\n",
              "      margin-bottom: 4px;\n",
              "    }\n",
              "\n",
              "    [theme=dark] .colab-df-convert {\n",
              "      background-color: #3B4455;\n",
              "      fill: #D2E3FC;\n",
              "    }\n",
              "\n",
              "    [theme=dark] .colab-df-convert:hover {\n",
              "      background-color: #434B5C;\n",
              "      box-shadow: 0px 1px 3px 1px rgba(0, 0, 0, 0.15);\n",
              "      filter: drop-shadow(0px 1px 2px rgba(0, 0, 0, 0.3));\n",
              "      fill: #FFFFFF;\n",
              "    }\n",
              "  </style>\n",
              "\n",
              "    <script>\n",
              "      const buttonEl =\n",
              "        document.querySelector('#df-496d703d-0949-440a-83a3-1c8493f4ae85 button.colab-df-convert');\n",
              "      buttonEl.style.display =\n",
              "        google.colab.kernel.accessAllowed ? 'block' : 'none';\n",
              "\n",
              "      async function convertToInteractive(key) {\n",
              "        const element = document.querySelector('#df-496d703d-0949-440a-83a3-1c8493f4ae85');\n",
              "        const dataTable =\n",
              "          await google.colab.kernel.invokeFunction('convertToInteractive',\n",
              "                                                    [key], {});\n",
              "        if (!dataTable) return;\n",
              "\n",
              "        const docLinkHtml = 'Like what you see? Visit the ' +\n",
              "          '<a target=\"_blank\" href=https://colab.research.google.com/notebooks/data_table.ipynb>data table notebook</a>'\n",
              "          + ' to learn more about interactive tables.';\n",
              "        element.innerHTML = '';\n",
              "        dataTable['output_type'] = 'display_data';\n",
              "        await google.colab.output.renderOutput(dataTable, element);\n",
              "        const docLink = document.createElement('div');\n",
              "        docLink.innerHTML = docLinkHtml;\n",
              "        element.appendChild(docLink);\n",
              "      }\n",
              "    </script>\n",
              "  </div>\n",
              "\n",
              "\n",
              "<div id=\"df-024267ca-86a5-4684-bfca-298836893965\">\n",
              "  <button class=\"colab-df-quickchart\" onclick=\"quickchart('df-024267ca-86a5-4684-bfca-298836893965')\"\n",
              "            title=\"Suggest charts\"\n",
              "            style=\"display:none;\">\n",
              "\n",
              "<svg xmlns=\"http://www.w3.org/2000/svg\" height=\"24px\"viewBox=\"0 0 24 24\"\n",
              "     width=\"24px\">\n",
              "    <g>\n",
              "        <path d=\"M19 3H5c-1.1 0-2 .9-2 2v14c0 1.1.9 2 2 2h14c1.1 0 2-.9 2-2V5c0-1.1-.9-2-2-2zM9 17H7v-7h2v7zm4 0h-2V7h2v10zm4 0h-2v-4h2v4z\"/>\n",
              "    </g>\n",
              "</svg>\n",
              "  </button>\n",
              "\n",
              "<style>\n",
              "  .colab-df-quickchart {\n",
              "      --bg-color: #E8F0FE;\n",
              "      --fill-color: #1967D2;\n",
              "      --hover-bg-color: #E2EBFA;\n",
              "      --hover-fill-color: #174EA6;\n",
              "      --disabled-fill-color: #AAA;\n",
              "      --disabled-bg-color: #DDD;\n",
              "  }\n",
              "\n",
              "  [theme=dark] .colab-df-quickchart {\n",
              "      --bg-color: #3B4455;\n",
              "      --fill-color: #D2E3FC;\n",
              "      --hover-bg-color: #434B5C;\n",
              "      --hover-fill-color: #FFFFFF;\n",
              "      --disabled-bg-color: #3B4455;\n",
              "      --disabled-fill-color: #666;\n",
              "  }\n",
              "\n",
              "  .colab-df-quickchart {\n",
              "    background-color: var(--bg-color);\n",
              "    border: none;\n",
              "    border-radius: 50%;\n",
              "    cursor: pointer;\n",
              "    display: none;\n",
              "    fill: var(--fill-color);\n",
              "    height: 32px;\n",
              "    padding: 0;\n",
              "    width: 32px;\n",
              "  }\n",
              "\n",
              "  .colab-df-quickchart:hover {\n",
              "    background-color: var(--hover-bg-color);\n",
              "    box-shadow: 0 1px 2px rgba(60, 64, 67, 0.3), 0 1px 3px 1px rgba(60, 64, 67, 0.15);\n",
              "    fill: var(--button-hover-fill-color);\n",
              "  }\n",
              "\n",
              "  .colab-df-quickchart-complete:disabled,\n",
              "  .colab-df-quickchart-complete:disabled:hover {\n",
              "    background-color: var(--disabled-bg-color);\n",
              "    fill: var(--disabled-fill-color);\n",
              "    box-shadow: none;\n",
              "  }\n",
              "\n",
              "  .colab-df-spinner {\n",
              "    border: 2px solid var(--fill-color);\n",
              "    border-color: transparent;\n",
              "    border-bottom-color: var(--fill-color);\n",
              "    animation:\n",
              "      spin 1s steps(1) infinite;\n",
              "  }\n",
              "\n",
              "  @keyframes spin {\n",
              "    0% {\n",
              "      border-color: transparent;\n",
              "      border-bottom-color: var(--fill-color);\n",
              "      border-left-color: var(--fill-color);\n",
              "    }\n",
              "    20% {\n",
              "      border-color: transparent;\n",
              "      border-left-color: var(--fill-color);\n",
              "      border-top-color: var(--fill-color);\n",
              "    }\n",
              "    30% {\n",
              "      border-color: transparent;\n",
              "      border-left-color: var(--fill-color);\n",
              "      border-top-color: var(--fill-color);\n",
              "      border-right-color: var(--fill-color);\n",
              "    }\n",
              "    40% {\n",
              "      border-color: transparent;\n",
              "      border-right-color: var(--fill-color);\n",
              "      border-top-color: var(--fill-color);\n",
              "    }\n",
              "    60% {\n",
              "      border-color: transparent;\n",
              "      border-right-color: var(--fill-color);\n",
              "    }\n",
              "    80% {\n",
              "      border-color: transparent;\n",
              "      border-right-color: var(--fill-color);\n",
              "      border-bottom-color: var(--fill-color);\n",
              "    }\n",
              "    90% {\n",
              "      border-color: transparent;\n",
              "      border-bottom-color: var(--fill-color);\n",
              "    }\n",
              "  }\n",
              "</style>\n",
              "\n",
              "  <script>\n",
              "    async function quickchart(key) {\n",
              "      const quickchartButtonEl =\n",
              "        document.querySelector('#' + key + ' button');\n",
              "      quickchartButtonEl.disabled = true;  // To prevent multiple clicks.\n",
              "      quickchartButtonEl.classList.add('colab-df-spinner');\n",
              "      try {\n",
              "        const charts = await google.colab.kernel.invokeFunction(\n",
              "            'suggestCharts', [key], {});\n",
              "      } catch (error) {\n",
              "        console.error('Error during call to suggestCharts:', error);\n",
              "      }\n",
              "      quickchartButtonEl.classList.remove('colab-df-spinner');\n",
              "      quickchartButtonEl.classList.add('colab-df-quickchart-complete');\n",
              "    }\n",
              "    (() => {\n",
              "      let quickchartButtonEl =\n",
              "        document.querySelector('#df-024267ca-86a5-4684-bfca-298836893965 button');\n",
              "      quickchartButtonEl.style.display =\n",
              "        google.colab.kernel.accessAllowed ? 'block' : 'none';\n",
              "    })();\n",
              "  </script>\n",
              "</div>\n",
              "\n",
              "    </div>\n",
              "  </div>\n"
            ],
            "application/vnd.google.colaboratory.intrinsic+json": {
              "type": "dataframe",
              "repr_error": "cannot insert Date, already exists"
            }
          },
          "metadata": {},
          "execution_count": 24
        }
      ]
    },
    {
      "cell_type": "code",
      "source": [
        "import matplotlib.pyplot as plt\n",
        "import seaborn as sn\n",
        "%matplotlib inline\n",
        "plt.plot(glaxo_df.Close);\n",
        "plt.xlabel('Time');\n",
        "plt.ylabel('Close Price');"
      ],
      "metadata": {
        "colab": {
          "base_uri": "https://localhost:8080/",
          "height": 449
        },
        "id": "eS4PNq_eUA4v",
        "outputId": "6cd793d9-1791-4f55-a2ec-e5bb59d79848"
      },
      "execution_count": 25,
      "outputs": [
        {
          "output_type": "display_data",
          "data": {
            "text/plain": [
              "<Figure size 640x480 with 1 Axes>"
            ],
            "image/png": "[encoded data removed]"
          },
          "metadata": {}
        }
      ]
    },
    {
      "cell_type": "code",
      "source": [
        "plt.plot(beml_df.Close);\n",
        "plt.xlabel('Time');\n",
        "plt.ylabel('Close')"
      ],
      "metadata": {
        "colab": {
          "base_uri": "https://localhost:8080/",
          "height": 466
        },
        "id": "BY94NzISUgDp",
        "outputId": "82bbf6b2-68d4-4ec4-bcee-8adad5eac814"
      },
      "execution_count": 26,
      "outputs": [
        {
          "output_type": "execute_result",
          "data": {
            "text/plain": [
              "Text(0, 0.5, 'Close')"
            ]
          },
          "metadata": {},
          "execution_count": 26
        },
        {
          "output_type": "display_data",
          "data": {
            "text/plain": [
              "<Figure size 640x480 with 1 Axes>"
            ],
            "image/png": "[encoded data removed]"
          },
          "metadata": {}
        }
      ]
    },
    {
      "cell_type": "markdown",
      "source": [
        "Què passa si un inversor a curt termini (intradia) està interessat a entendre les característiques següents\n",
        "sobre aquestes accions:\n",
        "1. Quina és la taxa de rendibilitat diària esperada d'aquestes accions?\n",
        "2. Quines accions tenen més risc o volatilitat pel que fa als rendiments diaris?\n",
        "3. Quin és el rang de rendiment esperat per a un interval de confiança del 95%?\n",
        "4. Quines accions tenen més probabilitats de fer un rendiment diari del 2% o més?\n",
        "5. Quines accions tenen més probabilitats de patir una pèrdua (risc) del 2% o més?"
      ],
      "metadata": {
        "id": "dwbfRQQkVjiC"
      }
    },
    {
      "cell_type": "markdown",
      "source": [
        "Per respondre a les preguntes anteriors, hem d'esbrinar el comportament dels rendiments diaris (ens referirem a això com a guany d'aquí endavant) sobre aquestes accions. El guany es pot calcular com un canvi percentual en el preu de tancament, a partir del preu de tancament del dia anterior.\n",
        "\n",
        "![image.png](data:image/png;base64,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)"
      ],
      "metadata": {
        "id": "abdr9Q9OV5q4"
      }
    },
    {
      "cell_type": "code",
      "source": [
        "glaxo_df['gain'] = glaxo_df.Close.pct_change(periods = 1)\n",
        "beml_df['gain'] = beml_df.Close.pct_change(periods = 1)\n",
        "glaxo_df.head(5)"
      ],
      "metadata": {
        "colab": {
          "base_uri": "https://localhost:8080/",
          "height": 238
        },
        "id": "D17FPEzmWCox",
        "outputId": "f554773d-2e2f-4405-a474-3a7c55991498"
      },
      "execution_count": 27,
      "outputs": [
        {
          "output_type": "execute_result",
          "data": {
            "text/plain": [
              "                  Date    Close      gain\n",
              "Date                                     \n",
              "2010-01-04  2010-01-04  1625.65       NaN\n",
              "2010-01-05  2010-01-05  1616.80 -0.005444\n",
              "2010-01-06  2010-01-06  1638.50  0.013422\n",
              "2010-01-07  2010-01-07  1648.70  0.006225\n",
              "2010-01-08  2010-01-08  1639.80 -0.005398"
            ],
            "text/html": [
              "\n",
              "  <div id=\"df-dc3f5fd8-70a2-40f3-91ea-c90f39794bc7\" class=\"colab-df-container\">\n",
              "    <div>\n",
              "<style scoped>\n",
              "    .dataframe tbody tr th:only-of-type {\n",
              "        vertical-align: middle;\n",
              "    }\n",
              "\n",
              "    .dataframe tbody tr th {\n",
              "        vertical-align: top;\n",
              "    }\n",
              "\n",
              "    .dataframe thead th {\n",
              "        text-align: right;\n",
              "    }\n",
              "</style>\n",
              "<table border=\"1\" class=\"dataframe\">\n",
              "  <thead>\n",
              "    <tr style=\"text-align: right;\">\n",
              "      <th></th>\n",
              "      <th>Date</th>\n",
              "      <th>Close</th>\n",
              "      <th>gain</th>\n",
              "    </tr>\n",
              "    <tr>\n",
              "      <th>Date</th>\n",
              "      <th></th>\n",
              "      <th></th>\n",
              "      <th></th>\n",
              "    </tr>\n",
              "  </thead>\n",
              "  <tbody>\n",
              "    <tr>\n",
              "      <th>2010-01-04</th>\n",
              "      <td>2010-01-04</td>\n",
              "      <td>1625.65</td>\n",
              "      <td>NaN</td>\n",
              "    </tr>\n",
              "    <tr>\n",
              "      <th>2010-01-05</th>\n",
              "      <td>2010-01-05</td>\n",
              "      <td>1616.80</td>\n",
              "      <td>-0.005444</td>\n",
              "    </tr>\n",
              "    <tr>\n",
              "      <th>2010-01-06</th>\n",
              "      <td>2010-01-06</td>\n",
              "      <td>1638.50</td>\n",
              "      <td>0.013422</td>\n",
              "    </tr>\n",
              "    <tr>\n",
              "      <th>2010-01-07</th>\n",
              "      <td>2010-01-07</td>\n",
              "      <td>1648.70</td>\n",
              "      <td>0.006225</td>\n",
              "    </tr>\n",
              "    <tr>\n",
              "      <th>2010-01-08</th>\n",
              "      <td>2010-01-08</td>\n",
              "      <td>1639.80</td>\n",
              "      <td>-0.005398</td>\n",
              "    </tr>\n",
              "  </tbody>\n",
              "</table>\n",
              "</div>\n",
              "    <div class=\"colab-df-buttons\">\n",
              "\n",
              "  <div class=\"colab-df-container\">\n",
              "    <button class=\"colab-df-convert\" onclick=\"convertToInteractive('df-dc3f5fd8-70a2-40f3-91ea-c90f39794bc7')\"\n",
              "            title=\"Convert this dataframe to an interactive table.\"\n",
              "            style=\"display:none;\">\n",
              "\n",
              "  <svg xmlns=\"http://www.w3.org/2000/svg\" height=\"24px\" viewBox=\"0 -960 960 960\">\n",
              "    <path d=\"M120-120v-720h720v720H120Zm60-500h600v-160H180v160Zm220 220h160v-160H400v160Zm0 220h160v-160H400v160ZM180-400h160v-160H180v160Zm440 0h160v-160H620v160ZM180-180h160v-160H180v160Zm440 0h160v-160H620v160Z\"/>\n",
              "  </svg>\n",
              "    </button>\n",
              "\n",
              "  <style>\n",
              "    .colab-df-container {\n",
              "      display:flex;\n",
              "      gap: 12px;\n",
              "    }\n",
              "\n",
              "    .colab-df-convert {\n",
              "      background-color: #E8F0FE;\n",
              "      border: none;\n",
              "      border-radius: 50%;\n",
              "      cursor: pointer;\n",
              "      display: none;\n",
              "      fill: #1967D2;\n",
              "      height: 32px;\n",
              "      padding: 0 0 0 0;\n",
              "      width: 32px;\n",
              "    }\n",
              "\n",
              "    .colab-df-convert:hover {\n",
              "      background-color: #E2EBFA;\n",
              "      box-shadow: 0px 1px 2px rgba(60, 64, 67, 0.3), 0px 1px 3px 1px rgba(60, 64, 67, 0.15);\n",
              "      fill: #174EA6;\n",
              "    }\n",
              "\n",
              "    .colab-df-buttons div {\n",
              "      margin-bottom: 4px;\n",
              "    }\n",
              "\n",
              "    [theme=dark] .colab-df-convert {\n",
              "      background-color: #3B4455;\n",
              "      fill: #D2E3FC;\n",
              "    }\n",
              "\n",
              "    [theme=dark] .colab-df-convert:hover {\n",
              "      background-color: #434B5C;\n",
              "      box-shadow: 0px 1px 3px 1px rgba(0, 0, 0, 0.15);\n",
              "      filter: drop-shadow(0px 1px 2px rgba(0, 0, 0, 0.3));\n",
              "      fill: #FFFFFF;\n",
              "    }\n",
              "  </style>\n",
              "\n",
              "    <script>\n",
              "      const buttonEl =\n",
              "        document.querySelector('#df-dc3f5fd8-70a2-40f3-91ea-c90f39794bc7 button.colab-df-convert');\n",
              "      buttonEl.style.display =\n",
              "        google.colab.kernel.accessAllowed ? 'block' : 'none';\n",
              "\n",
              "      async function convertToInteractive(key) {\n",
              "        const element = document.querySelector('#df-dc3f5fd8-70a2-40f3-91ea-c90f39794bc7');\n",
              "        const dataTable =\n",
              "          await google.colab.kernel.invokeFunction('convertToInteractive',\n",
              "                                                    [key], {});\n",
              "        if (!dataTable) return;\n",
              "\n",
              "        const docLinkHtml = 'Like what you see? Visit the ' +\n",
              "          '<a target=\"_blank\" href=https://colab.research.google.com/notebooks/data_table.ipynb>data table notebook</a>'\n",
              "          + ' to learn more about interactive tables.';\n",
              "        element.innerHTML = '';\n",
              "        dataTable['output_type'] = 'display_data';\n",
              "        await google.colab.output.renderOutput(dataTable, element);\n",
              "        const docLink = document.createElement('div');\n",
              "        docLink.innerHTML = docLinkHtml;\n",
              "        element.appendChild(docLink);\n",
              "      }\n",
              "    </script>\n",
              "  </div>\n",
              "\n",
              "\n",
              "<div id=\"df-4361e86a-514c-4692-98f9-d16fcd6bd6b6\">\n",
              "  <button class=\"colab-df-quickchart\" onclick=\"quickchart('df-4361e86a-514c-4692-98f9-d16fcd6bd6b6')\"\n",
              "            title=\"Suggest charts\"\n",
              "            style=\"display:none;\">\n",
              "\n",
              "<svg xmlns=\"http://www.w3.org/2000/svg\" height=\"24px\"viewBox=\"0 0 24 24\"\n",
              "     width=\"24px\">\n",
              "    <g>\n",
              "        <path d=\"M19 3H5c-1.1 0-2 .9-2 2v14c0 1.1.9 2 2 2h14c1.1 0 2-.9 2-2V5c0-1.1-.9-2-2-2zM9 17H7v-7h2v7zm4 0h-2V7h2v10zm4 0h-2v-4h2v4z\"/>\n",
              "    </g>\n",
              "</svg>\n",
              "  </button>\n",
              "\n",
              "<style>\n",
              "  .colab-df-quickchart {\n",
              "      --bg-color: #E8F0FE;\n",
              "      --fill-color: #1967D2;\n",
              "      --hover-bg-color: #E2EBFA;\n",
              "      --hover-fill-color: #174EA6;\n",
              "      --disabled-fill-color: #AAA;\n",
              "      --disabled-bg-color: #DDD;\n",
              "  }\n",
              "\n",
              "  [theme=dark] .colab-df-quickchart {\n",
              "      --bg-color: #3B4455;\n",
              "      --fill-color: #D2E3FC;\n",
              "      --hover-bg-color: #434B5C;\n",
              "      --hover-fill-color: #FFFFFF;\n",
              "      --disabled-bg-color: #3B4455;\n",
              "      --disabled-fill-color: #666;\n",
              "  }\n",
              "\n",
              "  .colab-df-quickchart {\n",
              "    background-color: var(--bg-color);\n",
              "    border: none;\n",
              "    border-radius: 50%;\n",
              "    cursor: pointer;\n",
              "    display: none;\n",
              "    fill: var(--fill-color);\n",
              "    height: 32px;\n",
              "    padding: 0;\n",
              "    width: 32px;\n",
              "  }\n",
              "\n",
              "  .colab-df-quickchart:hover {\n",
              "    background-color: var(--hover-bg-color);\n",
              "    box-shadow: 0 1px 2px rgba(60, 64, 67, 0.3), 0 1px 3px 1px rgba(60, 64, 67, 0.15);\n",
              "    fill: var(--button-hover-fill-color);\n",
              "  }\n",
              "\n",
              "  .colab-df-quickchart-complete:disabled,\n",
              "  .colab-df-quickchart-complete:disabled:hover {\n",
              "    background-color: var(--disabled-bg-color);\n",
              "    fill: var(--disabled-fill-color);\n",
              "    box-shadow: none;\n",
              "  }\n",
              "\n",
              "  .colab-df-spinner {\n",
              "    border: 2px solid var(--fill-color);\n",
              "    border-color: transparent;\n",
              "    border-bottom-color: var(--fill-color);\n",
              "    animation:\n",
              "      spin 1s steps(1) infinite;\n",
              "  }\n",
              "\n",
              "  @keyframes spin {\n",
              "    0% {\n",
              "      border-color: transparent;\n",
              "      border-bottom-color: var(--fill-color);\n",
              "      border-left-color: var(--fill-color);\n",
              "    }\n",
              "    20% {\n",
              "      border-color: transparent;\n",
              "      border-left-color: var(--fill-color);\n",
              "      border-top-color: var(--fill-color);\n",
              "    }\n",
              "    30% {\n",
              "      border-color: transparent;\n",
              "      border-left-color: var(--fill-color);\n",
              "      border-top-color: var(--fill-color);\n",
              "      border-right-color: var(--fill-color);\n",
              "    }\n",
              "    40% {\n",
              "      border-color: transparent;\n",
              "      border-right-color: var(--fill-color);\n",
              "      border-top-color: var(--fill-color);\n",
              "    }\n",
              "    60% {\n",
              "      border-color: transparent;\n",
              "      border-right-color: var(--fill-color);\n",
              "    }\n",
              "    80% {\n",
              "      border-color: transparent;\n",
              "      border-right-color: var(--fill-color);\n",
              "      border-bottom-color: var(--fill-color);\n",
              "    }\n",
              "    90% {\n",
              "      border-color: transparent;\n",
              "      border-bottom-color: var(--fill-color);\n",
              "    }\n",
              "  }\n",
              "</style>\n",
              "\n",
              "  <script>\n",
              "    async function quickchart(key) {\n",
              "      const quickchartButtonEl =\n",
              "        document.querySelector('#' + key + ' button');\n",
              "      quickchartButtonEl.disabled = true;  // To prevent multiple clicks.\n",
              "      quickchartButtonEl.classList.add('colab-df-spinner');\n",
              "      try {\n",
              "        const charts = await google.colab.kernel.invokeFunction(\n",
              "            'suggestCharts', [key], {});\n",
              "      } catch (error) {\n",
              "        console.error('Error during call to suggestCharts:', error);\n",
              "      }\n",
              "      quickchartButtonEl.classList.remove('colab-df-spinner');\n",
              "      quickchartButtonEl.classList.add('colab-df-quickchart-complete');\n",
              "    }\n",
              "    (() => {\n",
              "      let quickchartButtonEl =\n",
              "        document.querySelector('#df-4361e86a-514c-4692-98f9-d16fcd6bd6b6 button');\n",
              "      quickchartButtonEl.style.display =\n",
              "        google.colab.kernel.accessAllowed ? 'block' : 'none';\n",
              "    })();\n",
              "  </script>\n",
              "</div>\n",
              "\n",
              "    </div>\n",
              "  </div>\n"
            ],
            "application/vnd.google.colaboratory.intrinsic+json": {
              "type": "dataframe",
              "variable_name": "glaxo_df",
              "repr_error": "cannot insert Date, already exists"
            }
          },
          "metadata": {},
          "execution_count": 27
        }
      ]
    },
    {
      "cell_type": "code",
      "source": [
        "glaxo_df = glaxo_df.dropna()\n",
        "beml_df = beml_df.dropna()\n",
        "\n",
        "plt.figure(figsize = (8, 6));\n",
        "plt.plot(glaxo_df.index, glaxo_df.gain);\n",
        "plt.xlabel('Time');\n",
        "plt.ylabel('gain');"
      ],
      "metadata": {
        "colab": {
          "base_uri": "https://localhost:8080/",
          "height": 543
        },
        "id": "UPWjGCDyWYiP",
        "outputId": "087ce974-a956-4da3-b89c-4cf3867c4c6c"
      },
      "execution_count": 28,
      "outputs": [
        {
          "output_type": "display_data",
          "data": {
            "text/plain": [
              "<Figure size 800x600 with 1 Axes>"
            ],
            "image/png": "[encoded data removed]"
          },
          "metadata": {}
        }
      ]
    },
    {
      "cell_type": "code",
      "source": [
        "import seaborn as sn\n",
        "import matplotlib.pyplot as plt\n",
        "\n",
        "sn.histplot(glaxo_df.gain, kde=True, label='Glaxo', stat=\"density\")\n",
        "sn.histplot(beml_df.gain, kde=True, label='BEML', stat=\"density\")\n",
        "\n",
        "plt.xlabel('gain')\n",
        "plt.ylabel('Density')\n",
        "plt.legend()\n",
        "plt.title('Distribució de guanys')\n",
        "plt.grid(True)\n",
        "plt.show()\n"
      ],
      "metadata": {
        "colab": {
          "base_uri": "https://localhost:8080/",
          "height": 472
        },
        "id": "-hCzpFCrXSPO",
        "outputId": "0cbc708a-7082-4793-fc59-b95b77c4628b"
      },
      "execution_count": 30,
      "outputs": [
        {
          "output_type": "display_data",
          "data": {
            "text/plain": [
              "<Figure size 640x480 with 1 Axes>"
            ],
            "image/png": "[encoded data removed]"
          },
          "metadata": {}
        }
      ]
    },
    {
      "cell_type": "markdown",
      "source": [
        "# **Mitjana i variança**\n",
        "\n",
        "---\n",
        "\n",
        "\n",
        "La distribució normal està parametritzada per dos paràmetres: la mitjana de la distribució μ i la variaciance σ2 . La mitjana mostral d'una distribució normal ve donada per:\n",
        "\n",
        "![image.png](data:image/png;base64,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)\n",
        "\n",
        "I la variança ve donada per:\n",
        "\n",
        "![image.png](data:image/png;base64,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)"
      ],
      "metadata": {
        "id": "_P0-_qQrYAN2"
      }
    },
    {
      "cell_type": "code",
      "source": [
        "print('Daily gain of Glaxo')\n",
        "print('=====================')\n",
        "print('Mean: ', round(glaxo_df.gain.mean(), 4))\n",
        "print('Standard Deviation: ', round(glaxo_df.gain.std(), 4))"
      ],
      "metadata": {
        "colab": {
          "base_uri": "https://localhost:8080/"
        },
        "id": "4qU_EO8Aaens",
        "outputId": "32a374ee-3a63-4839-96c0-53dcd60df051"
      },
      "execution_count": 37,
      "outputs": [
        {
          "output_type": "stream",
          "name": "stdout",
          "text": [
            "Daily gain of Glaxo\n",
            "=====================\n",
            "Mean:  0.0004\n",
            "Standard Deviation:  0.0134\n"
          ]
        }
      ]
    },
    {
      "cell_type": "code",
      "source": [
        "print('Daily gain of BEML')\n",
        "print('=====================')\n",
        "print('Mean: ', round(beml_df.gain.mean(), 4))\n",
        "print('Standard Deviation: ', round(beml_df.gain.std(), 4))"
      ],
      "metadata": {
        "colab": {
          "base_uri": "https://localhost:8080/"
        },
        "id": "RxPFAA7bbKCE",
        "outputId": "ee843111-eb79-44fa-a29f-f2d7cc32912f"
      },
      "execution_count": 36,
      "outputs": [
        {
          "output_type": "stream",
          "name": "stdout",
          "text": [
            "Daily gain of BEML\n",
            "=====================\n",
            "Mean:  0.0003\n",
            "Standard Deviation:  0.0264\n"
          ]
        }
      ]
    },
    {
      "cell_type": "code",
      "source": [
        "beml_df.gain.describe()"
      ],
      "metadata": {
        "colab": {
          "base_uri": "https://localhost:8080/",
          "height": 335
        },
        "id": "pQkvOgRybhea",
        "outputId": "bc98d8d4-e3be-4035-a3f2-900e260b0d36"
      },
      "execution_count": 38,
      "outputs": [
        {
          "output_type": "execute_result",
          "data": {
            "text/plain": [
              "count    1738.000000\n",
              "mean        0.000271\n",
              "std         0.026431\n",
              "min        -0.133940\n",
              "25%        -0.013736\n",
              "50%        -0.001541\n",
              "75%         0.011985\n",
              "max         0.198329\n",
              "Name: gain, dtype: float64"
            ],
            "text/html": [
              "<div>\n",
              "<style scoped>\n",
              "    .dataframe tbody tr th:only-of-type {\n",
              "        vertical-align: middle;\n",
              "    }\n",
              "\n",
              "    .dataframe tbody tr th {\n",
              "        vertical-align: top;\n",
              "    }\n",
              "\n",
              "    .dataframe thead th {\n",
              "        text-align: right;\n",
              "    }\n",
              "</style>\n",
              "<table border=\"1\" class=\"dataframe\">\n",
              "  <thead>\n",
              "    <tr style=\"text-align: right;\">\n",
              "      <th></th>\n",
              "      <th>gain</th>\n",
              "    </tr>\n",
              "  </thead>\n",
              "  <tbody>\n",
              "    <tr>\n",
              "      <th>count</th>\n",
              "      <td>1738.000000</td>\n",
              "    </tr>\n",
              "    <tr>\n",
              "      <th>mean</th>\n",
              "      <td>0.000271</td>\n",
              "    </tr>\n",
              "    <tr>\n",
              "      <th>std</th>\n",
              "      <td>0.026431</td>\n",
              "    </tr>\n",
              "    <tr>\n",
              "      <th>min</th>\n",
              "      <td>-0.133940</td>\n",
              "    </tr>\n",
              "    <tr>\n",
              "      <th>25%</th>\n",
              "      <td>-0.013736</td>\n",
              "    </tr>\n",
              "    <tr>\n",
              "      <th>50%</th>\n",
              "      <td>-0.001541</td>\n",
              "    </tr>\n",
              "    <tr>\n",
              "      <th>75%</th>\n",
              "      <td>0.011985</td>\n",
              "    </tr>\n",
              "    <tr>\n",
              "      <th>max</th>\n",
              "      <td>0.198329</td>\n",
              "    </tr>\n",
              "  </tbody>\n",
              "</table>\n",
              "</div><br><label><b>dtype:</b> float64</label>"
            ]
          },
          "metadata": {},
          "execution_count": 38
        }
      ]
    },
    {
      "cell_type": "markdown",
      "source": [
        "# **Interval de confiança**\n",
        "\n",
        "---\n",
        "És un rang de valors que, amb un cert nivell de confiança, probablement conté el valor real (desconegut) d’un paràmetre poblacional.\n",
        "\n",
        "En poques paraules, és una manera de dir: \"No sabem exactament quin és el valor real, però estem bastant segurs que està dins d’aquest interval\".\n",
        "\n",
        "1. alfa: és l'interval, per exemple, 0,9 per a un interval de confiança del 90%.\n",
        "2. loc: És el paràmetre de localització de la distribució. És la mitjana de la distribució normal.\n",
        "3. escala: És el paràmetre d'escala de la distribució. És la desviació estàndard per a la distribució normal.\n"
      ],
      "metadata": {
        "id": "aqCC_d6XcbaZ"
      }
    },
    {
      "cell_type": "code",
      "source": [
        "from scipy import stats\n",
        "glaxo_df_ci = stats.norm.interval(0.95,loc = glaxo_df.gain.mean(),\n",
        "scale = glaxo_df.gain.std())\n",
        "print('Gain at 95% confidence interval is: ', np.round(glaxo_df_ci, 4))\n",
        "\n"
      ],
      "metadata": {
        "colab": {
          "base_uri": "https://localhost:8080/"
        },
        "id": "pK6TZfiNc2hN",
        "outputId": "68c3f464-1246-4014-ebb3-c6c83fe9fda9"
      },
      "execution_count": 39,
      "outputs": [
        {
          "output_type": "stream",
          "name": "stdout",
          "text": [
            "Gain at 95% confidence interval is:  [-0.0258  0.0266]\n"
          ]
        }
      ]
    },
    {
      "cell_type": "markdown",
      "source": [
        "# **Distribució de probabilitat acumulada**\n",
        "\n",
        "---\n",
        "\n",
        "És una funció que dona la probabilitat que una variable aleatòria sigui menor o igual que un cert valor.\n",
        "\n",
        "En notació matemàtica:\n",
        "\n",
        "![image.png](data:image/png;base64,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)"
      ],
      "metadata": {
        "id": "qRJiu5RwdziG"
      }
    },
    {
      "cell_type": "code",
      "source": [],
      "metadata": {
        "id": "iwfHwyZkeQAy"
      },
      "execution_count": null,
      "outputs": []
    }
  ]
}