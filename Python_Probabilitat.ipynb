{
  "nbformat": 4,
  "nbformat_minor": 0,
  "metadata": {
    "colab": {
      "provenance": [],
      "authorship_tag": "ABX9TyOO8mQZtJ5SECamGmRvZJQO",
      "include_colab_link": true
    },
    "kernelspec": {
      "name": "python3",
      "display_name": "Python 3"
    },
    "language_info": {
      "name": "python"
    }
  },
  "cells": [
    {
      "cell_type": "markdown",
      "metadata": {
        "id": "view-in-github",
        "colab_type": "text"
      },
      "source": [
        "<a href=\"https://colab.research.google.com/github/ManelSoengas/Python/blob/main/Python_Probabilitat.ipynb\" target=\"_parent\"><img src=\"https://colab.research.google.com/assets/colab-badge.svg\" alt=\"Open In Colab\"/></a>"
      ]
    },
    {
      "cell_type": "markdown",
      "source": [
        "# **Distribucions de probabilitat  i proves d'hipòtesi**\n",
        "\n",
        "---\n",
        "Les aplicacions analítiques impliquen tasques com la predicció de la probabilitat d'ocurrència d'un esdeveniment, la prova d'una hipòtesi, la construcció de models per explicar les variacions d'un KPI (indicador clau de rendiment) que és important per al negoci, com ara la rendibilitat, la quota de mercat, la demanda, etc.\n",
        "\n",
        "Funció de massa de probabilitat (PMF)\n",
        "Distribució acumulada funció de funció (CDF)\n",
        "\n",
        "1. PMF: és la probabilitat que una variable aleatòria X prengui un valor específic k.\n",
        "2. CDF: és la probabilitat que una variable aleatòria X prengui un valor inferior o igual a k\n"
      ],
      "metadata": {
        "id": "0vhkrJtbdTve"
      }
    },
    {
      "cell_type": "markdown",
      "source": [
        "Una variable és una característica o mesura que pot prendre diferents valors. Pot ser discreta o contínua, segons el tipus de valors que pot adoptar.\n",
        "\n",
        "# **Variable discreta**\n",
        "* És aquella que només pot prendre valors concrets i separats. No pot tenir\n",
        "valors entre dos punts. Generalment, són nombres enters.\n",
        "\n",
        "**Exemples:**\n",
        "* Nombre de germans d’una persona: 0, 1, 2, 3... (no pot ser 2,5 germans)\n",
        "\n",
        "* Nombre de llibres a la motxilla\n",
        "\n",
        "* Nombre d’estudiants en una aula\n",
        "\n",
        "* Resultat de tirar un dau: 1, 2, 3, 4, 5 o 6\n",
        "\n",
        "# **Variable contínua**\n",
        "* És aquella que pot prendre qualsevol valor dins d’un interval. Pot incloure valors decimals o fraccionaris, i per tant, té infinites possibilitats dins d’un rang.\n",
        "\n",
        "**Exemples:**\n",
        "* L’alçada d’una persona (per exemple: 1,72 metres)\n",
        "\n",
        "* El pes d’una fruita (per exemple: 250,3 grams)\n",
        "\n",
        "* El temps que tardes a fer una tasca (per exemple: 3,45 minuts)\n",
        "\n",
        "* La temperatura en un lloc (com 21,6 °C)\n",
        "\n"
      ],
      "metadata": {
        "id": "Y2WVF_Ti_vCz"
      }
    },
    {
      "cell_type": "markdown",
      "source": [
        "# **Distribució binomial**\n",
        "\n",
        "---\n",
        "La distribución binomial es una distribución de probabilidad discreta con diversas aplicaciones en diversos contextos empresariales. Se dice que una variable aleatoria X sigue una distribución binomial cuando:\n",
        "1. La variable aleatoria solo puede tener dos resultados: éxito y fracaso (también conocidos como ensayos de Bernoulli).\n",
        "2. El objetivo es calcular la probabilidad de obtener x éxitos en n ensayos.\n",
        "3. La probabilidad de éxito es p y, por lo tanto, la probabilidad de fracaso es (1 − p).\n",
        "4. La probabilidad p es constante y no varía entre ensayos.\n"
      ],
      "metadata": {
        "id": "OLiBe9-EAj2R"
      }
    },
    {
      "cell_type": "code",
      "execution_count": 5,
      "metadata": {
        "id": "ERGaFFqjdNlq",
        "colab": {
          "base_uri": "https://localhost:8080/"
        },
        "outputId": "5309d5d8-a024-4955-cbe7-2a11a430b9ee"
      },
      "outputs": [
        {
          "output_type": "execute_result",
          "data": {
            "text/plain": [
              "np.float64(0.06584063715436628)"
            ]
          },
          "metadata": {},
          "execution_count": 5
        }
      ],
      "source": [
        "# EcoTech Gadgets és una empresa que ven aparells electrònics sostenibles en línia.\n",
        "# Es sap que el 5% dels dispositius venuts tenen algun defecte de fàbrica i són retornats pels clients.\n",
        "# En un dia determinat, 50 persones van comprar un dispositiu a EcoTech Gadgets.\n",
        "# Probabilitat que exactament 5 clients tornin els articles???\n",
        "\n",
        "from scipy import stats\n",
        "stats.binom.pmf(5, 50, 0.05)\n",
        "\n",
        "# Dona la probabilitat que hi hagi exactament 5 retorns si 50 persones compren i la probabilitat individual de retorn és 5%"
      ]
    },
    {
      "cell_type": "code",
      "source": [
        "import pandas as pd\n",
        "import seaborn as sns\n",
        "import matplotlib.pyplot as plt\n",
        "\n"
      ],
      "metadata": {
        "id": "czD95SukCYbE"
      },
      "execution_count": 6,
      "outputs": []
    },
    {
      "cell_type": "code",
      "source": [
        "range(0,51) #\n",
        "pmf_df = pd.DataFrame({'success': range(0,51),\n",
        "'pmf': list(stats.binom.pmf(range(0,51),50, 0.05))})\n",
        "# Creació d'un diagrama de barres\n",
        "sns.barplot(x = pmf_df.success, y = pmf_df.pmf)\n",
        "plt.ylabel('pmf')\n",
        "plt.xlabel('Nombre ítems retornats');"
      ],
      "metadata": {
        "colab": {
          "base_uri": "https://localhost:8080/",
          "height": 449
        },
        "id": "1wnMPZhcBy40",
        "outputId": "714977e5-897f-4df1-b8b7-434edf7347e4"
      },
      "execution_count": 7,
      "outputs": [
        {
          "output_type": "display_data",
          "data": {
            "text/plain": [
              "<Figure size 640x480 with 1 Axes>"
            ],
            "image/png": "[encoded data removed]"
          },
          "metadata": {}
        }
      ]
    },
    {
      "cell_type": "code",
      "source": [
        "stats.binom.cdf(5, 50, 0.05)\n",
        "\n",
        "# Dona la probabilitat que hi hagi com a màxim 5 retorns (és a dir, 0, 1, 2, 3, 4 o 5 retorns)"
      ],
      "metadata": {
        "colab": {
          "base_uri": "https://localhost:8080/"
        },
        "id": "L3b34uLsFo_9",
        "outputId": "8d8773da-ad10-4feb-ba03-f4fd0e8b127d"
      },
      "execution_count": 8,
      "outputs": [
        {
          "output_type": "execute_result",
          "data": {
            "text/plain": [
              "np.float64(0.9622238270102227)"
            ]
          },
          "metadata": {},
          "execution_count": 8
        }
      ]
    },
    {
      "cell_type": "code",
      "source": [
        "1 - stats.binom.cdf(5, 50, 0.05)\n",
        "\n",
        "# Probabilitat que més de 5 clients tornin els articles comprats per ells"
      ],
      "metadata": {
        "colab": {
          "base_uri": "https://localhost:8080/"
        },
        "id": "4FsOMXWKGuXa",
        "outputId": "1560eb88-fb0f-4df8-b4ff-07924424a0e6"
      },
      "execution_count": 9,
      "outputs": [
        {
          "output_type": "execute_result",
          "data": {
            "text/plain": [
              "np.float64(0.03777617298977731)"
            ]
          },
          "metadata": {},
          "execution_count": 9
        }
      ]
    },
    {
      "cell_type": "markdown",
      "source": [
        "Mitjana:\n",
        "\n",
        "![image.png](data:image/png;base64,iVBORw0KGgoAAAANSUhEUgAAAGQAAAAcCAIAAAAY8Y2vAAAAA3NCSVQICAjb4U/gAAAEgUlEQVRoQ+2XWSitbRTHP/P8ZZ7neVaGHIQibuRGkunOhRQXLnBBiZSUkrhAOndEFAcXUoiklBKZx44xQxw65un7+faXdnvvnP3urc6p730v9O7nXc961vr//2uth8br6+tf4qMcAprKmYlWbwiIYAnQgQiWCJYABASYisoSwRKAgABTUVkiWAIQEGAqKksESwACAkw/QVkvLy+9vb1paWnr6+uSk5eXl9PT0799+/bp/0udnZ2VlJSEhoZWVVV9//69uro6NTU1Nja2tLT0+PhYQN7/mu7u7ubn54eHhzc0NIyNjeXk5AQEBOTl5e3v7yt09Qlg3d7ejoyMnJ+f6+vrcwbYTU9PLy4uGhsba2hoyJzK146ODhsbm78/fCwtLdva2p6fn6W3A/3U1JSrq2tRUVFra2tWVpazs3NPT09NTc3Q0NDAwADOFSapcPHh4aG/vz8yMjI5ObmysrKxsZG/o6OjP3/+rK+vv7m5kd4lCVtboSNBiycnJ0jJ19fX3Nycjff39ysrK7yTibwfTU1NCOSR//TLlevr66WlpcTExJmZGYDLzs7Gj46Ojp6eHm6vrq5IiZdf+pEYnJ6eHh0d4QFvnp6eiNTb2xvinZycxsfHd3Z2UNm7K0nYyrr+IIKNjQ1OxbVEWTCzubkJ/1ZWVh/sUuEToOTm5np5ea2urnp4eKSkpIAUAHEcDLGupaUl4xb5NDU1BQYGdnV1yegUOgsKCkxMTLa3t2HaxcWFvdiTC6yQhXyE6oL19PQE20Ts4+MjifXw8HBvb8/f39/IyEj+PHVWgIaUKJC1tTXAolTxBkyzs7MWFhYEIF/1j4+PCwsL9CaCJFTp0w0MDNA+0R4cHISEhEii/fHjB8GbmppKqkQmWnXBIlZqkFjd3NyIleogEyoCriAHlmR6vJI9y9raur29XWEPQgik9y5k3gErIiLCwcGBvimDCBDU1dVNTEyUlZUhTJnk8c9QYktwcLC29ltH4ifI0vLxJm38OT2L+ChDSIaNd54Jkcr/+vWrnZ1dZmamNOHq9Cz8U0oSjVBZpAcT8/PzdJ/4+Hi6TGdnZ3FxMUBL54lGFMoEG3QH0wwiBEuQED85OUlhErOhoaG0k8/pWYTIoL28vERHwM80GRwc5CSKZWtrKygoSPmOK0O7wp/0FNKjG9KSSY8TQYr0AIibCoqQ1KbCvfKLVADtjwEFAXd3d8x05nhFRUVUVJS8MStqlSE8M/jABerQOd2XU1taWpAVN5eEhAQ/Pz+Fp6q8CFjw/+XLF0dHR5zQJZOSkiii8vJye3t77lyCuKFL0KHi4uK4f4SFhTU3N9fW1mZkZMgPiv8CRskqP8BUWFgIn7CtspPftRFV9vX1MUO7u7t5VyYMtZTF7KBhubu729raqiyW37WRvk5Z6OrqcsuRH6MKo1ILLAYHMmbu0iMVev+TF2myc3NzNDvqV8k4VQcL3V5cXJiZmcXExHADUvK8P8SMywS3jeHhYa4d0dHRtHZlAnu7GSljJ9qAgOrK+h/CJ4IlgHQRLAFg/QM3t1Z8jpi2vQAAAABJRU5ErkJggg==)\n",
        "\n",
        "Variança:\n",
        "\n",
        "![image.png](data:image/png;base64,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)"
      ],
      "metadata": {
        "id": "DjprNJgaIUci"
      }
    },
    {
      "cell_type": "code",
      "source": [
        "from scipy import stats\n",
        "\n",
        "mean, var = stats.binom.stats(50, 0.05)\n",
        "print(\"Average:\", mean, \"Variance:\", var)\n",
        "\n",
        "# En una distribució binomial, la mitjana (també anomenada esperança o valor esperat)\n",
        "# ens diu quin valor esperem obtenir \"de mitjana\" si repetim l’experiment moltes vegades.\n",
        "\n",
        "# La variància és una mesura de la dispersió de la distribució.\n",
        "# Ens diu com s’allunyen els valors del nombre d’èxits (retorns) respecte a la mitjana.\n",
        "\n"
      ],
      "metadata": {
        "colab": {
          "base_uri": "https://localhost:8080/"
        },
        "id": "w7DAXbTyHn-8",
        "outputId": "d15eeb83-b5e9-440c-abc7-0ba09683a37c"
      },
      "execution_count": 10,
      "outputs": [
        {
          "output_type": "stream",
          "name": "stdout",
          "text": [
            "Average: 2.5 Variance: 2.375\n"
          ]
        }
      ]
    },
    {
      "cell_type": "markdown",
      "source": [
        "# **Distribució de Poisson**\n",
        "\n",
        "\n",
        "---\n",
        "\n",
        "\n",
        "En moltes situacions, ens pot interessar calcular el nombre d'esdeveniments que poden ocórrer durant un període de temps o espai. Per exemple, nombre de cancel·lacions de comandes per part dels clients en un portal de comerç electrònic, nombre de queixes de clients, nombre de retirades d'efectiu en un caixer automàtic, nombre d'errors tipogràfics en un llibre, nombre de sots a les carreteres de Bangalore, etc. Per trobar la probabilitat del nombre d'esdeveniments, utilitzem la distribució de Poisson.\n",
        "\n",
        "\n",
        "![image.png](data:image/png;base64,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)\n"
      ],
      "metadata": {
        "id": "cUvzZQ4cI4rc"
      }
    },
    {
      "cell_type": "code",
      "source": [
        "# El nombre de clients que entren en una botiga de tecnologia segueix una distribució de Poisson amb una mitjana de 8 clients per hora.\n",
        "\n",
        "# Calcula la probabilitat que entrin com a màxim 6 clients en una hora determinada.\n",
        "\n",
        "\n",
        "stats.poisson.cdf(6, 8)"
      ],
      "metadata": {
        "colab": {
          "base_uri": "https://localhost:8080/"
        },
        "id": "mEHVb9WdJTPy",
        "outputId": "0ff70000-8877-429b-a01c-ff2128c54aed"
      },
      "execution_count": 11,
      "outputs": [
        {
          "output_type": "execute_result",
          "data": {
            "text/plain": [
              "np.float64(0.31337427753639774)"
            ]
          },
          "metadata": {},
          "execution_count": 11
        }
      ]
    },
    {
      "cell_type": "code",
      "source": [
        "# Calcula la probabilitat que en 2 hores entrin més de 20 clients.\n",
        "\n",
        "prob= 1 - stats.poisson.cdf(20, 16)\n",
        "print (prob)"
      ],
      "metadata": {
        "colab": {
          "base_uri": "https://localhost:8080/"
        },
        "id": "bymzC4moJ917",
        "outputId": "21a6b71b-acef-41ca-e7c8-1292c18543cf"
      },
      "execution_count": 12,
      "outputs": [
        {
          "output_type": "stream",
          "name": "stdout",
          "text": [
            "0.13183196570865918\n"
          ]
        }
      ]
    },
    {
      "cell_type": "code",
      "source": [
        "# Visualitzar la distribució de Posisson\n",
        "import seaborn as sn\n",
        "\n",
        "\n",
        "# Rango (0.30)\n",
        "pmf_df = pd.DataFrame({'success': range(0,30), 'pmf': list(stats.\n",
        "poisson.pmf(range(0,30), 8))})\n",
        "# Crear un diagrama de barres de les trucades x i pmf i y\n",
        "sn.barplot(x = pmf_df.success, y = pmf_df.pmf);\n",
        "plt.xlabel('Number of Calls Received');"
      ],
      "metadata": {
        "id": "byZpBRqbLNp4",
        "colab": {
          "base_uri": "https://localhost:8080/",
          "height": 449
        },
        "outputId": "ed7a4e07-71f5-4a87-ce72-613c9f597afb"
      },
      "execution_count": 14,
      "outputs": [
        {
          "output_type": "display_data",
          "data": {
            "text/plain": [
              "<Figure size 640x480 with 1 Axes>"
            ],
            "image/png": "[encoded data removed]"
          },
          "metadata": {}
        }
      ]
    },
    {
      "cell_type": "markdown",
      "source": [
        "# **Distribució exponencial**\n",
        "---\n",
        "La distribució exponencial és una distribució contínua d'un sol paràmetre per a la qual s'utilitza tradicionalment modelització del temps fins a la fallada dels components electrònics.\n",
        "\n",
        "![Exponential_function.png](data:image/png;base64,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)\n"
      ],
      "metadata": {
        "id": "xi_KfL9lD4d6"
      }
    },
    {
      "cell_type": "code",
      "source": [
        "# El temps de vida d’una bombeta LED segueix una distribució exponencial amb una vida mitjana (MTBF) de 25.000 hores.\n",
        "# La probabilitat que una bombeta falli abans de 10.000 hores.\n",
        "# La probabilitat que funcioni sense fallar fins a les 30.000 hores.\n",
        "# El temps en què fallarà el 5% de les bombetes (vida P5)."
      ],
      "metadata": {
        "id": "uuldvA8LEWDx"
      },
      "execution_count": null,
      "outputs": []
    }
  ]
}